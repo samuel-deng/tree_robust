{
 "cells": [
  {
   "cell_type": "code",
   "execution_count": 25,
   "metadata": {},
   "outputs": [],
   "source": [
    "import pandas as pd\n",
    "import numpy as np\n",
    "import os\n",
    "import itertools\n",
    "\n",
    "from sklearn.preprocessing import LabelEncoder, OneHotEncoder, StandardScaler\n",
    "from sklearn.compose import ColumnTransformer\n",
    "from data import construct_hier\n",
    "\n",
    "from folktables import ACSDataSource, ACSEmployment, ACSIncome, ACSPublicCoverage"
   ]
  },
  {
   "cell_type": "code",
   "execution_count": 26,
   "metadata": {},
   "outputs": [],
   "source": [
    "path = 'datasets/adult/adult_reconstruction.csv'\n",
    "df = pd.read_csv(path, header=0, na_values='?')\n",
    "pd.to_numeric(df['income'])\n",
    "df['label'] = df['income'] >= 50000\n",
    "X, y = df.drop(['income', 'label'], axis=1), df['label']"
   ]
  },
  {
   "cell_type": "code",
   "execution_count": 27,
   "metadata": {},
   "outputs": [],
   "source": [
    "# Get categorical and numerical features\n",
    "cat_idx = X.select_dtypes(include=['object', 'bool']).columns\n",
    "num_idx = X.select_dtypes(include=['int64', 'float64']).columns\n",
    "steps = [('cat', OneHotEncoder(handle_unknown='ignore'), cat_idx), ('num', StandardScaler(), num_idx)]\n",
    "col_transf = ColumnTransformer(steps)"
   ]
  },
  {
   "cell_type": "code",
   "execution_count": 33,
   "metadata": {},
   "outputs": [],
   "source": [
    "# Group logic\n",
    "ALL = [True] * y.shape[0]\n",
    "\n",
    "EDU_HS = ['10th', '11th', '12th', '1st-4th', '5th-6th', '7th-8th', '9th',\n",
    "          'Preschool', 'HS-grad'] \n",
    "EDU_COL= ['Assoc-acdm', 'Assoc-voc', 'Bachelors', 'Doctorate',\n",
    "          'Masters', 'Prof-school', 'Some-college']\n",
    "\n",
    "# Age\n",
    "young = np.array(X['age'] <= 35)\n",
    "mid = np.array((X['age'] > 35) & (X['age'] <= 50))\n",
    "old = np.array(X['age'] > 50)\n",
    "age_group_names = ['Ya', 'Ma', 'Oa']\n",
    "age_groups = [young, mid, old]\n",
    "\n",
    "# Education\n",
    "edu_hs = np.array(X['education'].isin(EDU_HS))\n",
    "edu_col = np.array(X['education'].isin(EDU_COL))\n",
    "smoker_groups = [edu_hs, edu_col]\n",
    "smoker_group_names = ['HS', 'COL']\n",
    "\n",
    "# Race groups\n",
    "race_aie = np.array(X['race'] == 'Amer-Indian-Eskimo')\n",
    "race_api = np.array(X['race'] == 'Asian-Pac-Islander')\n",
    "race_b = np.array(X['race'] == 'Black')\n",
    "race_o = np.array(X['race'] == 'Other')\n",
    "race_w = np.array(X['race'] == 'White')\n",
    "race_groups = [race_aie, race_api, race_b, race_o, race_w]\n",
    "race_group_names = [\"AIE\", \"API\", \"B\", \"O\", \"W\"]\n",
    "\n",
    "# Sex groups\n",
    "sex_groups = [np.array(X['gender'] == 'Male'), \n",
    "              np.array(X['gender'] == 'Female')]\n",
    "sex_group_names = ['M', 'F']\n",
    "\n",
    "groups, group_names, tree = construct_hier([[ALL], sex_groups, race_groups],\n",
    "                                           [[\"ALL\"], sex_group_names, race_group_names])"
   ]
  }
 ],
 "metadata": {
  "kernelspec": {
   "display_name": "tree_robust",
   "language": "python",
   "name": "python3"
  },
  "language_info": {
   "codemirror_mode": {
    "name": "ipython",
    "version": 3
   },
   "file_extension": ".py",
   "mimetype": "text/x-python",
   "name": "python",
   "nbconvert_exporter": "python",
   "pygments_lexer": "ipython3",
   "version": "3.9.16"
  }
 },
 "nbformat": 4,
 "nbformat_minor": 2
}
