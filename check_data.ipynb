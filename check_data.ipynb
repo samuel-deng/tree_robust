{
 "cells": [
  {
   "cell_type": "code",
   "execution_count": null,
   "id": "e22f92cb-c3aa-48af-9c26-1a798e952314",
   "metadata": {},
   "outputs": [],
   "source": []
  }
 ],
 "metadata": {
  "kernelspec": {
   "display_name": "tree_robust",
   "language": "python",
   "name": "tree_robust"
  },
  "language_info": {
   "codemirror_mode": {
    "name": "ipython",
    "version": 3
   },
   "file_extension": ".py",
   "mimetype": "text/x-python",
   "name": "python",
   "nbconvert_exporter": "python",
   "pygments_lexer": "ipython3",
   "version": "3.9.16"
  }
 },
 "nbformat": 4,
 "nbformat_minor": 5
}
