{
 "cells": [
  {
   "attachments": {},
   "cell_type": "markdown",
   "metadata": {},
   "source": [
    "# Subgroup Robustness Grows on Trees (Experiments)\n",
    "Here are some initial experiments corroborating the empirical observations from *Subgroup Robustness Grows on Trees*."
   ]
  },
  {
   "cell_type": "code",
   "execution_count": 1,
   "metadata": {},
   "outputs": [],
   "source": [
    "import pandas as pd\n",
    "import numpy as np\n",
    "import matplotlib.pyplot as plt\n",
    "import random\n",
    "\n",
    "from sklearn.preprocessing import LabelEncoder\n",
    "from sklearn.preprocessing import OneHotEncoder\n",
    "from sklearn.preprocessing import MinMaxScaler\n",
    "from sklearn.compose import ColumnTransformer"
   ]
  },
  {
   "attachments": {},
   "cell_type": "markdown",
   "metadata": {},
   "source": [
    "## Datasets\n",
    "We'll run experiments on three datasets typically used in the fairness and robustness literature:\n",
    "\n",
    "1. Adult (*medium*). $n = 499,350$ examples, $20$ features, sensitive groups: *Race* and *Sex*.\n",
    "2. ACS Income (*large*) $n = 48,845$ examples, $14$ features, sensitive groups: *Race* and *Sex*.\n",
    "3. Communities and Crime (*small*) $n = 1,994$ examples, $113$ features, sensitive groups: *Income Level* and *Race.*\n",
    "\n",
    "We will also do experiments with a fourth synthetic dataset that has overlapping group structure."
   ]
  },
  {
   "attachments": {},
   "cell_type": "markdown",
   "metadata": {},
   "source": [
    "### Adult Dataset\n",
    "The Adult Dataset is a benchmark derived from 1994 US Census data. The task is to predict whether an individual's income\n",
    "exceeds $50,000 (binary classification). Sensitive attributes are *Race* and *Sex*.\n",
    "\n",
    "- *Race:* $\\{\\text{White}, \\text{Asian-Pac-Islander}, \\text{Amer-Indian-Eskimo}, \\text{Other}, \\text{Black} \\}$\n",
    "- *Sex:* $\\{\\text{Male}, \\text{Female}\\}$\n",
    "\n",
    "The standard in the literature has been to simplify the groups for *Race* to $\\text{White}$ and $\\text{NotWhite}$."
   ]
  },
  {
   "cell_type": "code",
   "execution_count": 2,
   "metadata": {},
   "outputs": [
    {
     "name": "stdout",
     "output_type": "stream",
     "text": [
      "Adult Shape: (45222, 15)\n",
      "% examples >=50k (y=1): 24.78439697492371\n",
      "% examples <50k (y=0): 75.21560302507629\n"
     ]
    }
   ],
   "source": [
    "# Adult Dataset\n",
    "adult_names = [\"age\", \"workclass\", \"fnlwgt\", \"education\", \"education-num\",\n",
    "                \"marital-status\", \"occupation\", \"relationship\", \"race\", \"sex\",\n",
    "                \"capital-gain\", \"capital-loss\", \"hours-per-week\", \"native-country\", \n",
    "                \"income\"]\n",
    "adult_data = pd.read_csv(\"./datasets/adult/adult.data\", header=None, names=adult_names, na_values=' ?')\n",
    "adult_data = adult_data.apply(lambda x: x.str.strip() if x.dtype == \"object\" else x) # strip whitespace\n",
    "adult_test = pd.read_csv(\"./datasets/adult/adult.test\", header=None, names=adult_names, na_values=' ?')\n",
    "adult_test = adult_test.apply(lambda x: x.str.strip() if x.dtype == \"object\" else x) # strip whitespace\n",
    "dfs = [adult_data, adult_test]\n",
    "adult_df = pd.concat(dfs)\n",
    "adult_df = adult_df.dropna()\n",
    "adult_df = adult_df.apply(lambda x: x.str.strip() if x.dtype == \"object\" else x) # strip whitespace\n",
    "print(\"Adult Shape: {}\".format(adult_df.shape))\n",
    "\n",
    "# last column in adult has some textual discrepancy\n",
    "adult_df = adult_df.replace(\">50K.\", \">50K\")\n",
    "adult_df = adult_df.replace(\"<=50K.\", \"<=50K\")\n",
    "\n",
    "# Split into X and y\n",
    "X, y = adult_df.drop(\"income\", axis=1), adult_df[\"income\"]\n",
    "\n",
    "# Select categorical and numerical features\n",
    "cat_idx = X.select_dtypes(include=[\"object\", \"bool\"]).columns\n",
    "num_idx = X.select_dtypes(include=['int64', 'float64']).columns\n",
    "steps = [('cat', OneHotEncoder(handle_unknown='ignore'), cat_idx), ('num', MinMaxScaler(), num_idx)]\n",
    "col_transf = ColumnTransformer(steps)\n",
    "\n",
    "# label encoder to target variable so we have classes 0 and 1\n",
    "assert(len(np.unique(y)) == 2)\n",
    "y = LabelEncoder().fit_transform(y)\n",
    "print(\"% examples >=50k (y=1): {}\".format(100 * len(np.where(y == 1)[0])/len(y)))\n",
    "print(\"% examples <50k (y=0): {}\".format(100 * len(np.where(y == 0)[0])/len(y)))"
   ]
  },
  {
   "cell_type": "code",
   "execution_count": 3,
   "metadata": {},
   "outputs": [],
   "source": [
    "# Prepend KFold validation\n",
    "from sklearn.metrics import accuracy_score\n",
    "from joblib import Parallel, delayed\n",
    "from prepend.prepend_algo import prepend_algo\n",
    "from sklearn.svm import SVC\n",
    "from sklearn.metrics import zero_one_loss\n",
    "\n",
    "def prepend_fit_score(X, y, train, test, model, loss, groups, params, score_metric):\n",
    "\t# convert index array into mask array for compatibility\n",
    "\ttrain_mask = np.zeros(len(y), dtype=bool)\n",
    "\ttest_mask = np.zeros(len(y), dtype=bool)\n",
    "\ttrain_mask[train] = True\n",
    "\ttest_mask[test] = True\n",
    "\n",
    "\tdec_list = prepend_algo(X[train_mask], y[train_mask], model, loss, groups, params, col_transf)\n",
    "\ty_pred = dec_list.predict(X[test_mask])\n",
    "\tscore = score_metric(y[test_mask], y_pred)\n",
    "\n",
    "\treturn score\n",
    "\n",
    "def prepend_cross_val(X, y, model, loss, groups, params, cv, score_metric=accuracy_score, n_jobs=-1):\n",
    "\tparallel = Parallel(n_jobs=n_jobs)\n",
    "\tresults = parallel(\n",
    "\t\tdelayed(prepend_fit_score)(\n",
    "\t\t\tX, \n",
    "\t\t\ty, \n",
    "\t\t\ttrain, \n",
    "\t\t\ttest,\n",
    "\t\t\tmodel,\n",
    "\t\t\tloss,\n",
    "\t\t\tgroups,\n",
    "\t\t\tparams,\n",
    "\t\t\tscore_metric\n",
    "\t\t)\n",
    "\t\tfor train, test in cv.split(X, y)\n",
    "\t)\n",
    "\n",
    "\treturn results"
   ]
  },
  {
   "cell_type": "code",
   "execution_count": 4,
   "metadata": {},
   "outputs": [
    {
     "name": "stdout",
     "output_type": "stream",
     "text": [
      "Group Names (Coarse): [('White', 'Male'), ('White', 'Female'), ('NotWhite', 'Male'), ('NotWhite', 'Female')]\n",
      "Group Names (Fine): [('White', 'Male'), ('White', 'Female'), ('Asian-Pac-Islander', 'Male'), ('Asian-Pac-Islander', 'Female'), ('Amer-Indian-Eskimo', 'Male'), ('Amer-Indian-Eskimo', 'Female'), ('Other', 'Male'), ('Other', 'Female'), ('Black', 'Male'), ('Black', 'Female')]\n"
     ]
    }
   ],
   "source": [
    "def produce_group_adult(race_val, sex_val):\n",
    "    def f(x):\n",
    "        return (x['race'] == race_val) & (x['sex'] == sex_val)\n",
    "    def f_notwhite(x):\n",
    "        return (x['race'] != 'White') & (x['sex'] == sex_val)\n",
    "    \n",
    "    if race_val == \"NotWhite\":\n",
    "        return f_notwhite\n",
    "    else:\n",
    "        return f\n",
    "    \n",
    "def adult_gp_indices(df, race_val, sex_val):\n",
    "    if race_val == \"NotWhite\":\n",
    "        return np.where((df['race'] != 'White') & (df['sex'] == sex_val))\n",
    "    else:\n",
    "        return np.where((df['race'] == race_val) & (df['sex'] == sex_val))\n",
    "\n",
    "# define group functions\n",
    "group_names_coarse = list()\n",
    "groups_coarse = list()\n",
    "group_indices_coarse = list()\n",
    "race_gps_coarse = [\"White\", \"NotWhite\"]\n",
    "race_gps_fine = [\"White\", \"Asian-Pac-Islander\", \"Amer-Indian-Eskimo\", \"Other\", \"Black\"]\n",
    "sex_gps = [\"Male\", \"Female\"]\n",
    "for race in race_gps_coarse:\n",
    "    for sex in sex_gps:\n",
    "        group_names_coarse.append((race, sex))\n",
    "        groups_coarse.append(produce_group_adult(race, sex))\n",
    "        group_indices_coarse.append(adult_gp_indices(X, race, sex)[0])\n",
    "\n",
    "group_names_fine = list()\n",
    "groups_fine = list()\n",
    "group_indices_fine = list()\n",
    "for race in race_gps_fine:\n",
    "    for sex in sex_gps:\n",
    "        group_names_fine.append((race, sex))\n",
    "        groups_fine.append(produce_group_adult(race, sex))\n",
    "        group_indices_fine.append(adult_gp_indices(X, race, sex)[0])\n",
    "\n",
    "print(\"Group Names (Coarse): {}\".format(group_names_coarse))\n",
    "print(\"Group Names (Fine): {}\".format(group_names_fine))"
   ]
  },
  {
   "attachments": {},
   "cell_type": "markdown",
   "metadata": {},
   "source": [
    "## Fit and Evaluate Models"
   ]
  },
  {
   "cell_type": "code",
   "execution_count": 5,
   "metadata": {},
   "outputs": [],
   "source": [
    "def prepend_cross_val(X, y, model, loss, groups, params, cv, score_metric=accuracy_score, n_jobs=-1):\n",
    "\tparallel = Parallel(n_jobs=n_jobs)\n",
    "\tresults = parallel(\n",
    "\t\tdelayed(prepend_fit_score)(\n",
    "\t\t\tX, \n",
    "\t\t\ty, \n",
    "\t\t\ttrain, \n",
    "\t\t\ttest,\n",
    "\t\t\tmodel,\n",
    "\t\t\tloss,\n",
    "\t\t\tgroups,\n",
    "\t\t\tparams,\n",
    "\t\t\tscore_metric\n",
    "\t\t)\n",
    "\t\tfor train, test in cv.split(X, y)\n",
    "\t)\n",
    "\n",
    "\treturn results"
   ]
  },
  {
   "cell_type": "code",
   "execution_count": 6,
   "metadata": {},
   "outputs": [],
   "source": [
    "# Cross validation code for baseline models and tree models\n",
    "\n",
    "def avg_gp_scores(X, y,  train, test, model, group_funcs):\n",
    "    # convert index array into mask array for compatibility\n",
    "    train_mask = np.zeros(len(y), dtype=bool)\n",
    "    test_mask = np.zeros(len(y), dtype=bool)\n",
    "    train_mask[train] = True\n",
    "    test_mask[test] = True\n",
    "    \n",
    "    X_train = X[train_mask]\n",
    "    X_test = X[test_mask]\n",
    "    y_train = y[train_mask]\n",
    "    y_test = y[test_mask]\n",
    "\n",
    "    # find indices of groups for evaluation\n",
    "    group_masks = list()\n",
    "    for g in group_funcs:\n",
    "        g_indices = np.where(g(X_test))\n",
    "        g_mask = np.zeros(len(X_test), dtype=bool)\n",
    "        g_mask[g_indices] = True\n",
    "        group_masks.append(g_mask)\n",
    "\n",
    "    # fit and evaluate model\n",
    "    model.fit(X_train, y_train)\n",
    "    y_pred = model.predict(X_test)\n",
    "    avg_acc = accuracy_score(y_test, y_pred)\n",
    "    group_accs = list()\n",
    "    for g in group_masks:\n",
    "        y_pred = model.predict(X_test[g])\n",
    "        g_acc = accuracy_score(y_test[g], y_pred)\n",
    "        group_accs.append(g_acc)\n",
    "\n",
    "    return avg_acc, group_accs\n",
    "\n",
    "def avg_gp_scores(X, y,  train, test, model, group_funcs, prepend_params=None):\n",
    "    # convert index array into mask array for compatibility\n",
    "    train_mask = np.zeros(len(y), dtype=bool)\n",
    "    test_mask = np.zeros(len(y), dtype=bool)\n",
    "    train_mask[train] = True\n",
    "    test_mask[test] = True\n",
    "    \n",
    "    X_train = X[train_mask]\n",
    "    X_test = X[test_mask]\n",
    "    y_train = y[train_mask]\n",
    "    y_test = y[test_mask]\n",
    "\n",
    "    # find indices of groups for evaluation\n",
    "    group_masks = list()\n",
    "    for g in group_funcs:\n",
    "        g_indices = np.where(g(X_test))\n",
    "        g_mask = np.zeros(len(X_test), dtype=bool)\n",
    "        g_mask[g_indices] = True\n",
    "        group_masks.append(g_mask)\n",
    "        \n",
    "    # fit and evaluate model\n",
    "    if prepend_params:\n",
    "        dec_list = prepend_algo(X_train, y_train, model, prepend_params['loss'], \n",
    "                                group_funcs, prepend_params['params'], \n",
    "                                prepend_params['transf'], verbose=True)\n",
    "        y_pred = dec_list.predict(X_test)\n",
    "        print(len(dec_list.groups))\n",
    "        avg_acc = accuracy_score(y_test, y_pred)\n",
    "        group_accs = list()\n",
    "        for g in group_masks:\n",
    "            y_pred = dec_list.predict(X_test[g])\n",
    "            g_acc = accuracy_score(y_test[g], y_pred)\n",
    "            group_accs.append(g_acc)\n",
    "    else:\n",
    "        model.fit(X_train, y_train)\n",
    "        y_pred = model.predict(X_test)\n",
    "        avg_acc = accuracy_score(y_test, y_pred)\n",
    "        group_accs = list()\n",
    "        for g in group_masks:\n",
    "            y_pred = model.predict(X_test[g])\n",
    "            g_acc = accuracy_score(y_test[g], y_pred)\n",
    "            group_accs.append(g_acc)\n",
    "\n",
    "    return avg_acc, group_accs\n",
    "\n",
    "def my_cross_val(X, y, model, group_funcs, cv, prepend_params=None, n_jobs=-1):\n",
    "    parallel = Parallel(n_jobs=n_jobs)\n",
    "\n",
    "    if prepend_params:\n",
    "        results = parallel(\n",
    "            delayed(avg_gp_scores)(\n",
    "                X, y, train, test, model, group_funcs, \n",
    "                prepend_params=prepend_params\n",
    "            )\n",
    "            for train, test, in cv.split(X, y)\n",
    "        )\n",
    "    else:\n",
    "        results = parallel(\n",
    "            delayed(avg_gp_scores)(\n",
    "                X, y, train, test, model, group_funcs\n",
    "            )\n",
    "            for train, test in cv.split(X, y)\n",
    "        )\n",
    "\n",
    "    k_avg_accs = list()\n",
    "    k_group_accs = [list() for _ in group_funcs]\n",
    "    for avg_acc, group_accs in results:\n",
    "        k_avg_accs.append(avg_acc)\n",
    "        for i in range(len(group_funcs)):\n",
    "            k_group_accs[i].append(group_accs[i])\n",
    "\n",
    "    return k_avg_accs, k_group_accs"
   ]
  },
  {
   "cell_type": "code",
   "execution_count": 7,
   "metadata": {},
   "outputs": [
    {
     "name": "stdout",
     "output_type": "stream",
     "text": [
      "[0.8412382531785517, 0.8452183526810393, 0.8484077841662981, 0.8479655019902698, 0.8534940291906237]\n",
      "[[0.7959599703484063, 0.8052999631947, 0.8083732939874585, 0.8002983404810741, 0.81313598519889], [0.9202172096908939, 0.9246252676659529, 0.9108742004264392, 0.9238056013179572, 0.9202015959680806], [0.8405797101449275, 0.8146067415730337, 0.8741450068399452, 0.8656934306569343, 0.8606676342525399], [0.9398230088495575, 0.9397163120567376, 0.9432234432234432, 0.9524647887323944, 0.9490333919156415]]\n"
     ]
    }
   ],
   "source": [
    "# test out cross validation\n",
    "from sklearn.linear_model import LogisticRegression\n",
    "from sklearn.model_selection import StratifiedKFold\n",
    "from sklearn.pipeline import Pipeline\n",
    "\n",
    "cv = StratifiedKFold(n_splits=5, random_state=1, shuffle=True)\n",
    "model = LogisticRegression(max_iter=500)\n",
    "pipe = Pipeline([('col_transf', col_transf), ('logreg', model)])\n",
    "avg_accs, group_accs = my_cross_val(X, y, pipe, groups_coarse, cv)\n",
    "print(avg_accs)\n",
    "print(group_accs)"
   ]
  },
  {
   "cell_type": "code",
   "execution_count": 8,
   "metadata": {},
   "outputs": [
    {
     "name": "stdout",
     "output_type": "stream",
     "text": [
      "fitting for group 0\n",
      "group 0 has 21598 examples.\n",
      "fitting for group 0\n",
      "group 0 has 21615 examples.\n",
      "fitting for group 1\n",
      "group 1 has 9538 examples.\n",
      "fitting for group 1\n",
      "group 1 has 9502 examples.\n",
      "fitting for group 0\n",
      "group 0 has 21624 examples.\n",
      "fitting for group 0\n",
      "group 0 has 21586 examples.\n",
      "fitting for group 2\n",
      "group 2 has 2776 examples.\n",
      "fitting for group 2\n",
      "group 2 has 2818 examples.\n",
      "fitting for group 3\n",
      "group 3 has 2266 examples.\n",
      "fitting for group 3\n",
      "group 3 has 2243 examples.\n",
      "fitting for group 0\n",
      "group 0 has 21657 examples.\n",
      "1\n",
      "1\n",
      "fitting for group 1\n",
      "group 1 has 9489 examples.\n",
      "fitting for group 1\n",
      "group 1 has 9548 examples.\n",
      "fitting for group 2\n",
      "group 2 has 2817 examples.\n",
      "fitting for group 3\n",
      "group 3 has 2247 examples.\n",
      "fitting for group 1\n",
      "group 1 has 9455 examples.\n",
      "fitting for group 2\n",
      "group 2 has 2795 examples.\n",
      "fitting for group 3\n",
      "group 3 has 2248 examples.\n",
      "fitting for group 2\n",
      "group 2 has 2822 examples.\n",
      "fitting for group 3\n",
      "group 3 has 2244 examples.\n",
      "Iteration t=0: prepended group 0\n",
      "old errors=[0.19219386 0.08040889 0.14767483 0.05340454]\n",
      "new errors=[0.19219386 0.08040889 0.14767483 0.05340454]\n",
      "change in error=[0. 0. 0. 0.]\n",
      "[0.19219386 0.08040889 0.14767483 0.05340454]\n",
      "1\n",
      "2\n",
      "1\n",
      "[0.8422332780541736, 0.8452183526810393, 0.8484077841662981, 0.8479655019902698, 0.8534940291906237]\n",
      "[[0.7976278724981468, 0.8052999631947, 0.8083732939874585, 0.8002983404810741, 0.81313598519889], [0.9202172096908939, 0.9246252676659529, 0.9108742004264392, 0.9238056013179572, 0.9202015959680806], [0.8405797101449275, 0.8146067415730337, 0.8741450068399452, 0.8656934306569343, 0.8606676342525399], [0.9398230088495575, 0.9397163120567376, 0.9432234432234432, 0.9524647887323944, 0.9490333919156415]]\n"
     ]
    }
   ],
   "source": [
    "# test out cross validation for prepend\n",
    "prepend_params = {\n",
    "    'loss': zero_one_loss,\n",
    "    'params': {\n",
    "        'max_iter' : 500\n",
    "    },\n",
    "    'transf': col_transf\n",
    "}\n",
    "avg_accs, group_accs = my_cross_val(X, y, LogisticRegression, groups_coarse, cv, prepend_params)\n",
    "print(avg_accs)\n",
    "print(group_accs)"
   ]
  },
  {
   "cell_type": "code",
   "execution_count": 9,
   "metadata": {},
   "outputs": [
    {
     "name": "stdout",
     "output_type": "stream",
     "text": [
      "(45222, 104)\n",
      "Group\ttrain\ttest\n",
      "0 (ALL)\t36177\t9045\n",
      "1 (('White', 'Male'))\t21603\t5417\n",
      "2 (('White', 'Female'))\t9520\t2363\n",
      "3 (('NotWhite', 'Male'))\t2815\t692\n",
      "4 (('NotWhite', 'Female'))\t2239\t573\n"
     ]
    }
   ],
   "source": [
    "from sklearn.model_selection import train_test_split\n",
    "from sklearn.linear_model import LogisticRegressionCV\n",
    "\n",
    "# find indices of groups for evaluation\n",
    "group_masks = list()\n",
    "group_masks.append([True] * y.shape[0])\n",
    "for g in groups_coarse:\n",
    "    g_indices = np.where(g(X))\n",
    "    g_mask = np.zeros(len(X), dtype=bool)\n",
    "    g_mask[g_indices] = True\n",
    "    group_masks.append(g_mask)\n",
    "group_names_coarse.insert(0, \"ALL\")\n",
    "\n",
    "# do train-test split\n",
    "X_transf = col_transf.fit_transform(X)\n",
    "print(X_transf.shape)\n",
    "splits = train_test_split(*tuple([X, y] + group_masks), test_size=0.2, random_state=0)\n",
    "X_train = splits[0]\n",
    "X_test = splits[1]\n",
    "y_train = splits[2]\n",
    "y_test = splits[3]\n",
    "group_train = splits[4::2]\n",
    "group_test = splits[5::2]\n",
    "num_groups = 5\n",
    "\n",
    "num_group_train = {}\n",
    "num_group_test = {}\n",
    "print('Group\\ttrain\\ttest')\n",
    "for g in range(num_groups):\n",
    "    num_group_train[g] = np.sum(group_train[g])\n",
    "    num_group_test[g] = np.sum(group_test[g])\n",
    "    print('{0} ({3})\\t{1}\\t{2}'.format(g, num_group_train[g], num_group_test[g], group_names_coarse[g]))"
   ]
  },
  {
   "cell_type": "code",
   "execution_count": 21,
   "metadata": {},
   "outputs": [
    {
     "name": "stdout",
     "output_type": "stream",
     "text": [
      "group 0 (ALL): 0.14892205638474296 (+/-0.005293889747457745; n=9045)\n",
      "group 1 (('White', 'Male')): 0.19198818534244047 (+/-0.0075680098284835315; n=5417)\n",
      "group 2 (('White', 'Female')): 0.07829030892932713 (+/-0.00781509420174876; n=2363)\n",
      "group 3 (('NotWhite', 'Male')): 0.13872832369942195 (+/-0.0185829476110788; n=692)\n",
      "group 4 (('NotWhite', 'Female')): 0.06108202443280977 (+/-0.014148429167305701; n=573)\n"
     ]
    }
   ],
   "source": [
    "models = {}\n",
    "yhats = {}\n",
    "test_err = {}\n",
    "for g in range(num_groups):\n",
    "    models[g] = LogisticRegressionCV(cv=3, max_iter=500)\n",
    "    #models[g] = DecisionTreeClassifier(random_state=0)\n",
    "    #models[g] = RandomForestClassifier(random_state=0)\n",
    "    models[g].fit(col_transf.transform(X_train[group_train[g]]), y_train[group_train[g]])\n",
    "    yhats[g] = models[g].predict(col_transf.transform(X_test))\n",
    "    test_err[g] = np.mean(y_test[group_test[g]] != yhats[g][group_test[g]])\n",
    "    print('group {0} ({4}): {1} (+/-{2}; n={3})'.format(g,test_err[g],np.sqrt(2. * test_err[g] * (1.0 - test_err[g]) / num_group_test[g]), num_group_test[g], group_names_coarse[g]))\n"
   ]
  },
  {
   "cell_type": "code",
   "execution_count": 22,
   "metadata": {},
   "outputs": [],
   "source": [
    "f = [0]\n",
    "#epsilon = 0.01\n",
    "epsilon = 0\n",
    "\n",
    "H_train = {}\n",
    "H_test = {}\n",
    "H_train_err = {}\n",
    "for g in range(num_groups):\n",
    "    H_train[g] = models[g].predict(col_transf.transform(X_train))\n",
    "    H_test[g] = models[g].predict(col_transf.transform(X_test))\n",
    "    H_train_err[g] = np.mean(H_train[g][group_train[g]] != y_train[group_train[g]])\n",
    "F_train = H_train[0].copy()\n",
    "F_test = H_test[0].copy()\n",
    "F_train_err = {}\n",
    "for g in range(num_groups):\n",
    "    F_train_err[g] = np.mean(F_train[group_train[g]] != y_train[group_train[g]])\n",
    "while True:\n",
    "    #scores = [H_train_err[g] + np.sqrt(2.0 * H_train_err[g] * (1.0 - H_train_err[g])/num_group_train[g]) - F_train_err[g] for g in range(num_groups)]\n",
    "    scores = [H_train_err[g] + epsilon - F_train_err[g] for g in range(num_groups)]\n",
    "    g = np.argmin(scores)\n",
    "    if scores[g] < 0.:\n",
    "        f.insert(0,g) # prepend g to the list f\n",
    "        F_train[group_train[g]] = H_train[g][group_train[g]]\n",
    "        F_test[group_test[g]] = H_test[g][group_test[g]]\n",
    "        for g in range(num_groups):\n",
    "            F_train_err[g] = np.mean(F_train[group_train[g]] != y_train[group_train[g]])\n",
    "    else:\n",
    "        break"
   ]
  },
  {
   "cell_type": "code",
   "execution_count": 23,
   "metadata": {},
   "outputs": [
    {
     "name": "stdout",
     "output_type": "stream",
     "text": [
      "[('White', 'Male'), ('White', 'Female'), ('NotWhite', 'Female'), ('NotWhite', 'Male'), 'ALL']\n"
     ]
    }
   ],
   "source": [
    "print([group_names_coarse[g] for g in f])"
   ]
  },
  {
   "cell_type": "code",
   "execution_count": 24,
   "metadata": {},
   "outputs": [
    {
     "name": "stdout",
     "output_type": "stream",
     "text": [
      "group 0 (ALL): 0.14991708126036485 (+/-0.005308440039837308; n=9045)\n",
      "group 1 (('White', 'Male')): 0.19198818534244047 (+/-0.0075680098284835315; n=5417)\n",
      "group 2 (('White', 'Female')): 0.07829030892932713 (+/-0.00781509420174876; n=2363)\n",
      "group 3 (('NotWhite', 'Male')): 0.13872832369942195 (+/-0.0185829476110788; n=692)\n",
      "group 4 (('NotWhite', 'Female')): 0.06108202443280977 (+/-0.014148429167305701; n=573)\n"
     ]
    }
   ],
   "source": [
    "F_test_err = {}\n",
    "for g in range(num_groups):\n",
    "    F_test_err[g] = np.mean(F_test[group_test[g]] != y_test[group_test[g]])\n",
    "    print('group {0} ({4}): {1} (+/-{2}; n={3})'.format(g, F_test_err[g], np.sqrt(2. * F_test_err[g] * (1.0 - F_test_err[g]) / num_group_test[g]), num_group_test[g], group_names_coarse[g]))"
   ]
  },
  {
   "cell_type": "code",
   "execution_count": 25,
   "metadata": {},
   "outputs": [
    {
     "name": "stdout",
     "output_type": "stream",
     "text": [
      "group 0 (ALL): 0.14892205638474296 (+/-0.005293889747457745; n=9045)\n",
      "group 1 (('White', 'Male')): 0.19254199741554365 (+/-0.0075763196231075644; n=5417)\n",
      "group 2 (('White', 'Female')): 0.07405840033855268 (+/-0.007618370656392775; n=2363)\n",
      "group 3 (('NotWhite', 'Male')): 0.1416184971098266 (+/-0.018743993133075364; n=692)\n",
      "group 4 (('NotWhite', 'Female')): 0.05410122164048865 (+/-0.013364833574195843; n=573)\n"
     ]
    }
   ],
   "source": [
    "for g in range(num_groups):\n",
    "    yhats[g] = models[0].predict(col_transf.transform(X_test))\n",
    "    test_err[g] = np.mean(y_test[group_test[g]] != yhats[g][group_test[g]])\n",
    "    print('group {0} ({4}): {1} (+/-{2}; n={3})'.format(g,test_err[g],np.sqrt(2. * test_err[g] * (1.0 - test_err[g]) / num_group_test[g]), num_group_test[g], group_names_coarse[g]))"
   ]
  },
  {
   "cell_type": "code",
   "execution_count": 13,
   "metadata": {},
   "outputs": [],
   "source": [
    "from sklearn.model_selection import cross_val_score\n",
    "from sklearn.model_selection import StratifiedKFold\n",
    "from sklearn.pipeline import Pipeline\n",
    "from sklearn.tree import DecisionTreeClassifier\n",
    "from sklearn.ensemble import RandomForestClassifier\n",
    "from sklearn.ensemble import GradientBoostingClassifier\n",
    "from sklearn.svm import SVC\n",
    "from sklearn.linear_model import LogisticRegression\n",
    "\n",
    "def all_accs(X, y, model):\n",
    "\t# define evaluation procedure\n",
    "\tcv = StratifiedKFold(n_splits=5, random_state=1, shuffle=True)\n",
    "\t# evaluate model\n",
    "\tscores = cross_val_score(model, X, y, scoring='accuracy', cv=cv, n_jobs=-1)\n",
    "\treturn scores\n",
    "\n",
    "def group_accs(X, y, model, gp_indices):\n",
    "    # define evaluation procedure\n",
    "    cv = StratifiedKFold(n_splits=5, random_state=1, shuffle=True)\n",
    "    \n",
    "    gp_scores = []\n",
    "    for indices in gp_indices:\n",
    "        scores = cross_val_score(model, X.iloc[indices], y[indices], \n",
    "                                scoring='accuracy', cv=cv, n_jobs=-1)\n",
    "        gp_scores.append(scores)\n",
    "\n",
    "    return gp_scores\n",
    "\n",
    "def prepend_group_accs(X, y, model, gp_indices, loss, groups, params):\n",
    "    # define evaluation procedure\n",
    "    skf = StratifiedKFold(n_splits=5, shuffle=True, random_state=1)\n",
    "    \n",
    "    gp_scores = []\n",
    "    for indices in gp_indices:\n",
    "        scores = prepend_cross_val(X.iloc[indices], y[indices], model, loss, groups, params, skf)\n",
    "        gp_scores.append(scores)\n",
    "\n",
    "    return gp_scores"
   ]
  },
  {
   "cell_type": "code",
   "execution_count": 14,
   "metadata": {},
   "outputs": [
    {
     "data": {
      "text/plain": [
       "'\\nfor i in range(len(models)):\\n    pipe = Pipeline([(\\'col_transf\\', col_transf), (model_names[i], models[i])])\\n\\n    # Evaluate model per group\\n    print(\"Model: {}\".format(model_names[i]))\\n    mean_gp_scores = []\\n    group_scores = group_accs(X, y, pipe, group_indices_coarse)\\n    for group_score in group_scores:\\n        mean_gp_scores.append(np.mean(group_score))\\n    worst_gp_score = min(mean_gp_scores)\\n    all_scores = np.mean(all_accs(X, y, pipe))\\n    for j in range(len(mean_gp_scores)):\\n        print(\"Group ({}) Accuracy: {}\".format(group_names_coarse[j], mean_gp_scores[j]))\\n    print(\"Worst Group Accuracy: {}\".format(worst_gp_score))\\n    print(\"Overall Accuracy: {}\".format(all_scores))\\n    print()\\n\\n    # Save results\\n    result = dict()\\n    result[\\'group_accs\\'] = mean_gp_scores\\n    result[\\'worst_group\\'] = worst_gp_score\\n    result[\\'avg_acc\\'] = all_scores\\n    results.append(result)\\n'"
      ]
     },
     "execution_count": 14,
     "metadata": {},
     "output_type": "execute_result"
    }
   ],
   "source": [
    "def model_suite():\n",
    "    models = []\n",
    "    names = []\n",
    "\n",
    "    # Decision Tree\n",
    "    models.append(DecisionTreeClassifier())\n",
    "    names.append(\"Decision Tree (single, CART)\")\n",
    "\n",
    "    # SVM\n",
    "    models.append(SVC(gamma=\"scale\"))\n",
    "    names.append(\"SVM\")\n",
    "\n",
    "    # Logistic Regression\n",
    "    models.append(LogisticRegression(max_iter=500))\n",
    "    names.append(\"Logistic Regression\")\n",
    "\n",
    "    # Random Forest\n",
    "    num_trees = [64, 128, 256, 512, 1024]\n",
    "    for n in num_trees:\n",
    "        models.append(RandomForestClassifier(n_estimators=n))\n",
    "        names.append(\"Random Forests ({} trees)\".format(n))\n",
    "    \n",
    "    # Gradient Boosting\n",
    "    for n in num_trees:\n",
    "        models.append(GradientBoostingClassifier(n_estimators=n))\n",
    "        names.append(\"Gradient Boosting ({} trees)\".format(n))\n",
    "\n",
    "    return models, names\n",
    "\n",
    "models, model_names = model_suite()\n",
    "results = list() # list of dictionaries of 6 scores\n",
    "\n",
    "'''\n",
    "for i in range(len(models)):\n",
    "    pipe = Pipeline([('col_transf', col_transf), (model_names[i], models[i])])\n",
    "\n",
    "    # Evaluate model per group\n",
    "    print(\"Model: {}\".format(model_names[i]))\n",
    "    mean_gp_scores = []\n",
    "    group_scores = group_accs(X, y, pipe, group_indices_coarse)\n",
    "    for group_score in group_scores:\n",
    "        mean_gp_scores.append(np.mean(group_score))\n",
    "    worst_gp_score = min(mean_gp_scores)\n",
    "    all_scores = np.mean(all_accs(X, y, pipe))\n",
    "    for j in range(len(mean_gp_scores)):\n",
    "        print(\"Group ({}) Accuracy: {}\".format(group_names_coarse[j], mean_gp_scores[j]))\n",
    "    print(\"Worst Group Accuracy: {}\".format(worst_gp_score))\n",
    "    print(\"Overall Accuracy: {}\".format(all_scores))\n",
    "    print()\n",
    "\n",
    "    # Save results\n",
    "    result = dict()\n",
    "    result['group_accs'] = mean_gp_scores\n",
    "    result['worst_group'] = worst_gp_score\n",
    "    result['avg_acc'] = all_scores\n",
    "    results.append(result)\n",
    "'''"
   ]
  },
  {
   "cell_type": "code",
   "execution_count": 15,
   "metadata": {},
   "outputs": [
    {
     "ename": "ValueError",
     "evalue": "shape mismatch: objects cannot be broadcast to a single shape.  Mismatch is between arg 0 with shape (13,) and arg 1 with shape (0,).",
     "output_type": "error",
     "traceback": [
      "\u001b[0;31m---------------------------------------------------------------------------\u001b[0m",
      "\u001b[0;31mValueError\u001b[0m                                Traceback (most recent call last)",
      "Cell \u001b[0;32mIn[15], line 25\u001b[0m\n\u001b[1;32m     23\u001b[0m \u001b[39mfor\u001b[39;00m acc, val \u001b[39min\u001b[39;00m accuracies\u001b[39m.\u001b[39mitems():\n\u001b[1;32m     24\u001b[0m     offset \u001b[39m=\u001b[39m width \u001b[39m*\u001b[39m multiplier\n\u001b[0;32m---> 25\u001b[0m     rects \u001b[39m=\u001b[39m ax\u001b[39m.\u001b[39;49mbar(x \u001b[39m+\u001b[39;49m offset, val, width, label\u001b[39m=\u001b[39;49macc)\n\u001b[1;32m     26\u001b[0m     multiplier \u001b[39m+\u001b[39m\u001b[39m=\u001b[39m \u001b[39m1\u001b[39m\n\u001b[1;32m     28\u001b[0m ax\u001b[39m.\u001b[39mset_ylabel(\u001b[39m\"\u001b[39m\u001b[39maccuracy\u001b[39m\u001b[39m\"\u001b[39m)\n",
      "File \u001b[0;32m~/miniconda3/envs/tree_robust/lib/python3.9/site-packages/matplotlib/__init__.py:1442\u001b[0m, in \u001b[0;36m_preprocess_data.<locals>.inner\u001b[0;34m(ax, data, *args, **kwargs)\u001b[0m\n\u001b[1;32m   1439\u001b[0m \u001b[39m@functools\u001b[39m\u001b[39m.\u001b[39mwraps(func)\n\u001b[1;32m   1440\u001b[0m \u001b[39mdef\u001b[39;00m \u001b[39minner\u001b[39m(ax, \u001b[39m*\u001b[39margs, data\u001b[39m=\u001b[39m\u001b[39mNone\u001b[39;00m, \u001b[39m*\u001b[39m\u001b[39m*\u001b[39mkwargs):\n\u001b[1;32m   1441\u001b[0m     \u001b[39mif\u001b[39;00m data \u001b[39mis\u001b[39;00m \u001b[39mNone\u001b[39;00m:\n\u001b[0;32m-> 1442\u001b[0m         \u001b[39mreturn\u001b[39;00m func(ax, \u001b[39m*\u001b[39;49m\u001b[39mmap\u001b[39;49m(sanitize_sequence, args), \u001b[39m*\u001b[39;49m\u001b[39m*\u001b[39;49mkwargs)\n\u001b[1;32m   1444\u001b[0m     bound \u001b[39m=\u001b[39m new_sig\u001b[39m.\u001b[39mbind(ax, \u001b[39m*\u001b[39margs, \u001b[39m*\u001b[39m\u001b[39m*\u001b[39mkwargs)\n\u001b[1;32m   1445\u001b[0m     auto_label \u001b[39m=\u001b[39m (bound\u001b[39m.\u001b[39marguments\u001b[39m.\u001b[39mget(label_namer)\n\u001b[1;32m   1446\u001b[0m                   \u001b[39mor\u001b[39;00m bound\u001b[39m.\u001b[39mkwargs\u001b[39m.\u001b[39mget(label_namer))\n",
      "File \u001b[0;32m~/miniconda3/envs/tree_robust/lib/python3.9/site-packages/matplotlib/axes/_axes.py:2417\u001b[0m, in \u001b[0;36mAxes.bar\u001b[0;34m(self, x, height, width, bottom, align, **kwargs)\u001b[0m\n\u001b[1;32m   2414\u001b[0m     \u001b[39mif\u001b[39;00m yerr \u001b[39mis\u001b[39;00m \u001b[39mnot\u001b[39;00m \u001b[39mNone\u001b[39;00m:\n\u001b[1;32m   2415\u001b[0m         yerr \u001b[39m=\u001b[39m \u001b[39mself\u001b[39m\u001b[39m.\u001b[39m_convert_dx(yerr, y0, y, \u001b[39mself\u001b[39m\u001b[39m.\u001b[39mconvert_yunits)\n\u001b[0;32m-> 2417\u001b[0m x, height, width, y, linewidth, hatch \u001b[39m=\u001b[39m np\u001b[39m.\u001b[39;49mbroadcast_arrays(\n\u001b[1;32m   2418\u001b[0m     \u001b[39m# Make args iterable too.\u001b[39;49;00m\n\u001b[1;32m   2419\u001b[0m     np\u001b[39m.\u001b[39;49matleast_1d(x), height, width, y, linewidth, hatch)\n\u001b[1;32m   2421\u001b[0m \u001b[39m# Now that units have been converted, set the tick locations.\u001b[39;00m\n\u001b[1;32m   2422\u001b[0m \u001b[39mif\u001b[39;00m orientation \u001b[39m==\u001b[39m \u001b[39m'\u001b[39m\u001b[39mvertical\u001b[39m\u001b[39m'\u001b[39m:\n",
      "File \u001b[0;32m<__array_function__ internals>:180\u001b[0m, in \u001b[0;36mbroadcast_arrays\u001b[0;34m(*args, **kwargs)\u001b[0m\n",
      "File \u001b[0;32m~/miniconda3/envs/tree_robust/lib/python3.9/site-packages/numpy/lib/stride_tricks.py:540\u001b[0m, in \u001b[0;36mbroadcast_arrays\u001b[0;34m(subok, *args)\u001b[0m\n\u001b[1;32m    533\u001b[0m \u001b[39m# nditer is not used here to avoid the limit of 32 arrays.\u001b[39;00m\n\u001b[1;32m    534\u001b[0m \u001b[39m# Otherwise, something like the following one-liner would suffice:\u001b[39;00m\n\u001b[1;32m    535\u001b[0m \u001b[39m# return np.nditer(args, flags=['multi_index', 'zerosize_ok'],\u001b[39;00m\n\u001b[1;32m    536\u001b[0m \u001b[39m#                  order='C').itviews\u001b[39;00m\n\u001b[1;32m    538\u001b[0m args \u001b[39m=\u001b[39m [np\u001b[39m.\u001b[39marray(_m, copy\u001b[39m=\u001b[39m\u001b[39mFalse\u001b[39;00m, subok\u001b[39m=\u001b[39msubok) \u001b[39mfor\u001b[39;00m _m \u001b[39min\u001b[39;00m args]\n\u001b[0;32m--> 540\u001b[0m shape \u001b[39m=\u001b[39m _broadcast_shape(\u001b[39m*\u001b[39;49margs)\n\u001b[1;32m    542\u001b[0m \u001b[39mif\u001b[39;00m \u001b[39mall\u001b[39m(array\u001b[39m.\u001b[39mshape \u001b[39m==\u001b[39m shape \u001b[39mfor\u001b[39;00m array \u001b[39min\u001b[39;00m args):\n\u001b[1;32m    543\u001b[0m     \u001b[39m# Common case where nothing needs to be broadcasted.\u001b[39;00m\n\u001b[1;32m    544\u001b[0m     \u001b[39mreturn\u001b[39;00m args\n",
      "File \u001b[0;32m~/miniconda3/envs/tree_robust/lib/python3.9/site-packages/numpy/lib/stride_tricks.py:422\u001b[0m, in \u001b[0;36m_broadcast_shape\u001b[0;34m(*args)\u001b[0m\n\u001b[1;32m    417\u001b[0m \u001b[39m\u001b[39m\u001b[39m\"\"\"Returns the shape of the arrays that would result from broadcasting the\u001b[39;00m\n\u001b[1;32m    418\u001b[0m \u001b[39msupplied arrays against each other.\u001b[39;00m\n\u001b[1;32m    419\u001b[0m \u001b[39m\"\"\"\u001b[39;00m\n\u001b[1;32m    420\u001b[0m \u001b[39m# use the old-iterator because np.nditer does not handle size 0 arrays\u001b[39;00m\n\u001b[1;32m    421\u001b[0m \u001b[39m# consistently\u001b[39;00m\n\u001b[0;32m--> 422\u001b[0m b \u001b[39m=\u001b[39m np\u001b[39m.\u001b[39;49mbroadcast(\u001b[39m*\u001b[39;49margs[:\u001b[39m32\u001b[39;49m])\n\u001b[1;32m    423\u001b[0m \u001b[39m# unfortunately, it cannot handle 32 or more arguments directly\u001b[39;00m\n\u001b[1;32m    424\u001b[0m \u001b[39mfor\u001b[39;00m pos \u001b[39min\u001b[39;00m \u001b[39mrange\u001b[39m(\u001b[39m32\u001b[39m, \u001b[39mlen\u001b[39m(args), \u001b[39m31\u001b[39m):\n\u001b[1;32m    425\u001b[0m     \u001b[39m# ironically, np.broadcast does not properly handle np.broadcast\u001b[39;00m\n\u001b[1;32m    426\u001b[0m     \u001b[39m# objects (it treats them as scalars)\u001b[39;00m\n\u001b[1;32m    427\u001b[0m     \u001b[39m# use broadcasting to avoid allocating the full array\u001b[39;00m\n",
      "\u001b[0;31mValueError\u001b[0m: shape mismatch: objects cannot be broadcast to a single shape.  Mismatch is between arg 0 with shape (13,) and arg 1 with shape (0,)."
     ]
    },
    {
     "data": {
      "image/png": "[encoded data removed]",
      "text/plain": [
       "<Figure size 640x480 with 1 Axes>"
      ]
     },
     "metadata": {},
     "output_type": "display_data"
    }
   ],
   "source": [
    "# Plot these initial results\n",
    "x = np.arange(len(model_names))\n",
    "width = 0.25\n",
    "multiplier = 0\n",
    "\n",
    "accuracies = {\n",
    "    #'g0_acc': [],\n",
    "    #'g1_acc': [],\n",
    "    #'g2_acc': [],\n",
    "    #'g3_acc': [],\n",
    "    'worst_gp_acc': [],\n",
    "    'avg_acc': []\n",
    "}\n",
    "for result in results:\n",
    "    #accuracies['g0_acc'].append(result['group_accs'][0])\n",
    "    #accuracies['g1_acc'].append(result['group_accs'][1])\n",
    "    #accuracies['g2_acc'].append(result['group_accs'][2])\n",
    "    #accuracies['g3_acc'].append(result['group_accs'][3])\n",
    "    accuracies['worst_gp_acc'].append(result['worst_group'])\n",
    "    accuracies['avg_acc'].append(result['avg_acc'])\n",
    "\n",
    "fig, ax = plt.subplots(layout='constrained')\n",
    "for acc, val in accuracies.items():\n",
    "    offset = width * multiplier\n",
    "    rects = ax.bar(x + offset, val, width, label=acc)\n",
    "    multiplier += 1\n",
    "\n",
    "ax.set_ylabel(\"accuracy\")\n",
    "ax.set_xticks(x + width, model_names, rotation=90)\n",
    "ax.legend(loc='best', bbox_to_anchor=(0.5, 1), ncols=3)\n",
    "plt.show()"
   ]
  },
  {
   "cell_type": "code",
   "execution_count": null,
   "metadata": {},
   "outputs": [
    {
     "data": {
      "image/png": "[encoded data removed]",
      "text/plain": [
       "<Figure size 640x480 with 1 Axes>"
      ]
     },
     "metadata": {},
     "output_type": "display_data"
    }
   ],
   "source": [
    "# Plot only for Random Forests with different n_estimators\n",
    "rf_accuracies = {\n",
    "    'g0_acc': [],\n",
    "    'g1_acc': [],\n",
    "    'g2_acc': [],\n",
    "    'g3_acc': [],\n",
    "    'worst_gp_acc': [],\n",
    "    'avg_acc': []\n",
    "}\n",
    "rf_names = model_names[3:12]\n",
    "rf_results = results[3:12]\n",
    "\n",
    "for result in rf_results:\n",
    "    rf_accuracies['g0_acc'].append(result['group_accs'][0])\n",
    "    rf_accuracies['g1_acc'].append(result['group_accs'][1])\n",
    "    rf_accuracies['g2_acc'].append(result['group_accs'][2])\n",
    "    rf_accuracies['g3_acc'].append(result['group_accs'][3])\n",
    "    rf_accuracies['worst_gp_acc'].append(result['worst_group'])\n",
    "    rf_accuracies['avg_acc'].append(result['avg_acc'])\n",
    "\n",
    "for acc, val in rf_accuracies.items():\n",
    "    plt.plot(rf_names, val, label=acc)\n",
    "\n",
    "plt.xticks(rf_names, rotation=90)\n",
    "plt.legend(loc='best', bbox_to_anchor=(0.5, 1), ncols=3)\n",
    "plt.show()"
   ]
  },
  {
   "cell_type": "code",
   "execution_count": null,
   "metadata": {},
   "outputs": [
    {
     "data": {
      "image/png": "[encoded data removed]",
      "text/plain": [
       "<Figure size 640x480 with 1 Axes>"
      ]
     },
     "metadata": {},
     "output_type": "display_data"
    }
   ],
   "source": [
    "# Plot only for Gradient Boosting with different n_estimators\n",
    "gb_accuracies = {\n",
    "    'g0_acc': [],\n",
    "    'g1_acc': [],\n",
    "    'g2_acc': [],\n",
    "    'g3_acc': [],\n",
    "    'worst_gp_acc': [],\n",
    "    'avg_acc': []\n",
    "}\n",
    "gb_names = model_names[12:]\n",
    "gb_results = results[12:]\n",
    "\n",
    "for result in gb_results:\n",
    "    gb_accuracies['g0_acc'].append(result['group_accs'][0])\n",
    "    gb_accuracies['g1_acc'].append(result['group_accs'][1])\n",
    "    gb_accuracies['g2_acc'].append(result['group_accs'][2])\n",
    "    gb_accuracies['g3_acc'].append(result['group_accs'][3])\n",
    "    gb_accuracies['worst_gp_acc'].append(result['worst_group'])\n",
    "    gb_accuracies['avg_acc'].append(result['avg_acc'])\n",
    "\n",
    "for acc, val in gb_accuracies.items():\n",
    "    plt.plot(gb_names, val, label=acc)\n",
    "\n",
    "plt.xticks(gb_names, rotation=90)\n",
    "plt.legend(loc='best', bbox_to_anchor=(0.5, 1), ncols=3)\n",
    "plt.show()"
   ]
  }
 ],
 "metadata": {
  "kernelspec": {
   "display_name": "tree_robust",
   "language": "python",
   "name": "python3"
  },
  "language_info": {
   "codemirror_mode": {
    "name": "ipython",
    "version": 3
   },
   "file_extension": ".py",
   "mimetype": "text/x-python",
   "name": "python",
   "nbconvert_exporter": "python",
   "pygments_lexer": "ipython3",
   "version": "3.9.16"
  },
  "orig_nbformat": 4,
  "vscode": {
   "interpreter": {
    "hash": "7b202f823bd61280ed544dd2b8027b6f33560d7fb6c24b9d3ec16cb764342a51"
   }
  }
 },
 "nbformat": 4,
 "nbformat_minor": 2
}
