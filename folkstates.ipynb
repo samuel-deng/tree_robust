{
 "cells": [
  {
   "cell_type": "code",
   "execution_count": 1,
   "metadata": {},
   "outputs": [],
   "source": [
    "import pandas as pd\n",
    "import numpy as np\n",
    "import itertools\n",
    "import os\n",
    "\n",
    "from sklearn.preprocessing import LabelEncoder, OneHotEncoder, StandardScaler\n",
    "from sklearn.compose import ColumnTransformer\n",
    "from folktables import ACSDataSource, ACSEmployment, ACSIncome, ACSPublicCoverage"
   ]
  },
  {
   "cell_type": "code",
   "execution_count": 2,
   "metadata": {},
   "outputs": [
    {
     "data": {
      "text/plain": [
       "\"\\nREGIONS = {\\n    'NORTHEAST': {\\n        'NewEngland': ['MA', 'CT'],\\n        'MidAtlantic': ['NY', 'PA'],\\n    },\\n    'MIDWEST': {\\n        'EastNorthCentral': ['IL', 'OH'],\\n        'WestNorthCentral': ['MO', 'MN']\\n    },\\n    'SOUTH': {\\n        'SouthAtlantic': ['FL', 'GA'],\\n        'EastSouthCentral': ['TN', 'AL'],\\n        'WestSouthCentral': ['TX', 'LA']\\n    },\\n    'WEST': {\\n        'Mountain': ['AZ', 'CO'],\\n        'Pacific': ['CA', 'WA']\\n    }\\n}\\n\""
      ]
     },
     "execution_count": 2,
     "metadata": {},
     "output_type": "execute_result"
    }
   ],
   "source": [
    "state_list = ['AL', 'AK', 'AZ', 'AR', 'CA', 'CO', 'CT', 'DE', 'FL', 'GA', 'HI',\n",
    "              'ID', 'IL', 'IN', 'IA', 'KS', 'KY', 'LA', 'ME', 'MD', 'MA', 'MI',\n",
    "              'MN', 'MS', 'MO', 'MT', 'NE', 'NV', 'NH', 'NJ', 'NM', 'NY', 'NC',\n",
    "              'ND', 'OH', 'OK', 'OR', 'PA', 'RI', 'SC', 'SD', 'TN', 'TX', 'UT',\n",
    "              'VT', 'VA', 'WA', 'WV', 'WI', 'WY', 'PR']\n",
    "\n",
    "region_names = ['NORTHEAST', 'MIDWEST', 'SOUTH', 'WEST']\n",
    "region_vals = [1, 2, 3, 4]\n",
    "division_names = ['NewEngland', 'MidAtlantic', 'EastNorthCentral',\n",
    "                  'WestNorthCentral', 'SouthAtlantic', 'EastSouthCentral',\n",
    "                  'WestSouthCentral', 'Mountain', 'Pacific']\n",
    "division_vals = [1, 2, 3, 4, 5, 6, 7, 8, 9]\n",
    "state_names = ['MA', 'CT', 'NY', 'PA', 'IL', 'OH', 'MO', 'MN', 'FL', 'GA',\n",
    "                 'TN', 'AL', 'TX', 'LA', 'AZ', 'CO', 'CA', 'WA']\n",
    "state_vals = [25, 9, 36, 42, 17, 39, 29, 27, 12, 13, 47, 1, 48, 22, 4, 8, 6, 53]\n",
    "\n",
    "REGIONS = {\n",
    "    'NORTHEAST': ['MA', 'CT', 'NY', 'PA'],\n",
    "    'MIDWEST': ['IL', 'OH', 'MO', 'MN'],\n",
    "    'SOUTH': ['FL', 'GA', 'TN', 'AL', 'TX', 'LA'],\n",
    "    'WEST': ['AZ', 'CO', 'CA', 'WA']\n",
    "}\n",
    "\n",
    "REGION_CODES = {\n",
    "    'NORTHEAST': 1,\n",
    "    'MIDWEST': 2,\n",
    "    'SOUTH': 3,\n",
    "    'WEST': 4\n",
    "}\n",
    "\n",
    "DIVISIONS = {\n",
    "    'NewEngland': ['MA', 'CT'],\n",
    "    'MidAtlantic': ['NY', 'PA'],\n",
    "    'EastNorthCentral': ['IL', 'OH'],\n",
    "    'WestNorthCentral': ['MO', 'MN'],\n",
    "    'SouthAtlantic': ['FL', 'GA'],\n",
    "    'EastSouthCentral': ['TN', 'AL'],\n",
    "    'WestSouthCentral': ['TX', 'LA'],\n",
    "    'Mountain': ['AZ', 'CO'],\n",
    "    'Pacific': ['CA', 'WA']\n",
    "}\n",
    "\n",
    "DIVISION_CODES = {\n",
    "    'NewEngland': 1,\n",
    "    'MidAtlantic': 2,\n",
    "    'EastNorthCentral': 3,\n",
    "    'WestNorthCentral': 4,\n",
    "    'SouthAtlantic': 5,\n",
    "    'EastSouthCentral': 6,\n",
    "    'WestSouthCentral': 7,\n",
    "    'Mountain': 8,\n",
    "    'Pacific': 9\n",
    "}\n",
    "\n",
    "_STATE_CODES = {'AL': '01', 'AK': '02', 'AZ': '04', 'AR': '05', 'CA': '06',\n",
    "                'CO': '08', 'CT': '09', 'DE': '10', 'FL': '12', 'GA': '13',\n",
    "                'HI': '15', 'ID': '16', 'IL': '17', 'IN': '18', 'IA': '19',\n",
    "                'KS': '20', 'KY': '21', 'LA': '22', 'ME': '23', 'MD': '24',\n",
    "                'MA': '25', 'MI': '26', 'MN': '27', 'MS': '28', 'MO': '29',\n",
    "                'MT': '30', 'NE': '31', 'NV': '32', 'NH': '33', 'NJ': '34',\n",
    "                'NM': '35', 'NY': '36', 'NC': '37', 'ND': '38', 'OH': '39',\n",
    "                'OK': '40', 'OR': '41', 'PA': '42', 'RI': '44', 'SC': '45',\n",
    "                'SD': '46', 'TN': '47', 'TX': '48', 'UT': '49', 'VT': '50',\n",
    "                'VA': '51', 'WA': '53', 'WV': '54', 'WI': '55', 'WY': '56',\n",
    "                'PR': '72'}\n",
    "\n",
    "_STATE_CODES_INV = {\n",
    "    '1': 'AL',\n",
    "    '2': 'AK',\n",
    "    '4': 'AZ',\n",
    "    '5': 'AR',\n",
    "    '6': 'CA',\n",
    "    '8': 'CO',\n",
    "    '9': 'CT',\n",
    "    '10': 'DE',\n",
    "    '12': 'FL',\n",
    "    '13': 'GA',\n",
    "    '15': 'HI',\n",
    "    '16': 'ID',\n",
    "    '17': 'IL',\n",
    "    '18': 'IN',\n",
    "    '19': 'IA',\n",
    "    '20': 'KS',\n",
    "    '21': 'KY',\n",
    "    '22': 'LA',\n",
    "    '23': 'ME',\n",
    "    '24': 'MD',\n",
    "    '25': 'MA',\n",
    "    '26': 'MI',\n",
    "    '27': 'MN',\n",
    "    '28': 'MS',\n",
    "    '29': 'MO',\n",
    "    '30': 'MT',\n",
    "    '31': 'NE',\n",
    "    '32': 'NV',\n",
    "    '33': 'NH',\n",
    "    '34': 'NJ',\n",
    "    '35': 'NM',\n",
    "    '36': 'NY',\n",
    "    '37': 'NC',\n",
    "    '38': 'ND',\n",
    "    '39': 'OH',\n",
    "    '40': 'OK',\n",
    "    '41': 'OR',\n",
    "    '42': 'PA',\n",
    "    '44': 'RI',\n",
    "    '45': 'SC',\n",
    "    '46': 'SD',\n",
    "    '47': 'TN',\n",
    "    '48': 'TX',\n",
    "    '49': 'UT',\n",
    "    '50': 'VT',\n",
    "    '51': 'VA',\n",
    "    '53': 'WA',\n",
    "    '54': 'WV',\n",
    "    '55': 'WI',\n",
    "    '56': 'WY',\n",
    "    '72': 'PR',\n",
    "}\n",
    "\n",
    "\"\"\"\n",
    "REGIONS = {\n",
    "    'NORTHEAST': {\n",
    "        'NewEngland': ['MA', 'CT'],\n",
    "        'MidAtlantic': ['NY', 'PA'],\n",
    "    },\n",
    "    'MIDWEST': {\n",
    "        'EastNorthCentral': ['IL', 'OH'],\n",
    "        'WestNorthCentral': ['MO', 'MN']\n",
    "    },\n",
    "    'SOUTH': {\n",
    "        'SouthAtlantic': ['FL', 'GA'],\n",
    "        'EastSouthCentral': ['TN', 'AL'],\n",
    "        'WestSouthCentral': ['TX', 'LA']\n",
    "    },\n",
    "    'WEST': {\n",
    "        'Mountain': ['AZ', 'CO'],\n",
    "        'Pacific': ['CA', 'WA']\n",
    "    }\n",
    "}\n",
    "\"\"\""
   ]
  },
  {
   "cell_type": "code",
   "execution_count": 3,
   "metadata": {},
   "outputs": [],
   "source": [
    "data_source = ACSDataSource(survey_year=\"2016\", horizon=\"1-Year\",\n",
    "                                survey='person')\n",
    "acs_data = data_source.get_data(states=state_names, download=True)"
   ]
  },
  {
   "cell_type": "code",
   "execution_count": 4,
   "metadata": {},
   "outputs": [],
   "source": [
    "# Choose a random sample of 0.4 * rows for each state\n",
    "state_dfs = {}\n",
    "for state in state_names:\n",
    "    state_df = acs_data.loc[acs_data['ST'] == int(_STATE_CODES[state])]\n",
    "    sample = state_df.sample(n=int(0.4 * len(state_df)), random_state=0)\n",
    "    state_dfs[state] = sample"
   ]
  },
  {
   "cell_type": "code",
   "execution_count": 5,
   "metadata": {},
   "outputs": [],
   "source": [
    "# Add division and region features\n",
    "for division in DIVISIONS:\n",
    "    for state in DIVISIONS[division]:\n",
    "        div_code = DIVISION_CODES[division]\n",
    "        state_dfs[state]['DIV'] = [div_code] * len(state_dfs[state])\n",
    "\n",
    "for region in REGIONS:\n",
    "    for state in REGIONS[region]:\n",
    "        region_code = REGION_CODES[region]\n",
    "        state_dfs[state]['REG'] = [region_code] * len(state_dfs[state])"
   ]
  },
  {
   "cell_type": "code",
   "execution_count": 6,
   "metadata": {},
   "outputs": [],
   "source": [
    "# Concatenate into a big DF with all states and regions\n",
    "DF_PATH = 'data/'       # should exist if we loaded Folktables data\n",
    "all_df = pd.concat(state_dfs.values())\n",
    "all_df = all_df.sample(frac=1) # shuffle the rows\n",
    "all_df.to_csv(os.path.join(DF_PATH, 'states.csv'), index=False)"
   ]
  },
  {
   "cell_type": "code",
   "execution_count": 7,
   "metadata": {},
   "outputs": [],
   "source": [
    "# ACSIncome Preprocessing\n",
    "all_df = pd.read_csv(os.path.join(DF_PATH, 'states.csv'))\n",
    "all_df = all_df.sample(frac=1)\n",
    "ACSIncomeNew = ACSIncome\n",
    "ACSIncomeNew.features.extend(['DIV', 'REG', 'ST'])\n",
    "X, y, groups = ACSIncomeNew.df_to_numpy(all_df)"
   ]
  },
  {
   "cell_type": "code",
   "execution_count": 15,
   "metadata": {},
   "outputs": [],
   "source": [
    "feature_names = ACSIncomeNew.features\n",
    "st_idx = feature_names.index('ST')\n",
    "reg_idx = feature_names.index('REG')\n",
    "div_idx = feature_names.index('DIV')\n",
    "\n",
    "state = X[:, st_idx]\n",
    "region = X[:, reg_idx]\n",
    "div = X[:, div_idx]\n",
    "\n",
    "region_groups = []\n",
    "for val in region_vals:\n",
    "    region_groups.append(region == val)\n",
    "\n",
    "div_groups = []\n",
    "for val in division_vals:\n",
    "    div_groups.append(div == val)\n",
    "\n",
    "state_groups = []\n",
    "for val in state_vals:\n",
    "    state_groups.append(state == val)\n",
    "\n",
    "ALL = [True] * y.shape[0]\n",
    "race_groups = []\n",
    "# Get race groups, combining (R3, R4, R5) and (R6, R7)\n",
    "for g in np.unique(groups):\n",
    "    if g == 3:  # R3 (American-Indian)\n",
    "        R34 = np.logical_or(groups == 3, groups == 4)\n",
    "        race_groups.append(np.logical_or(R34, groups == 5))\n",
    "    elif g == 6: # R6 (Asian)\n",
    "        race_groups.append(np.logical_or(groups == 6, groups == 7))\n",
    "    elif g == 4 or g == 5 or g == 7: # group is too small\n",
    "        continue\n",
    "    else:\n",
    "        race_groups.append(groups == g)\n",
    "race_group_names = [\"R1\", \"R2\", \"R3+\", \"R6+\", \"R7\", \"R8\", \"R9\"]"
   ]
  },
  {
   "cell_type": "code",
   "execution_count": 20,
   "metadata": {},
   "outputs": [],
   "source": [
    "from data import construct_hier\n",
    "\n",
    "groups, group_names, tree = construct_hier([[ALL], region_groups,\n",
    "                                            state_groups, race_groups],\n",
    "                                            [[\"ALL\"], region_names, state_names, race_group_names], skip_empty=True)"
   ]
  },
  {
   "cell_type": "code",
   "execution_count": 29,
   "metadata": {},
   "outputs": [
    {
     "data": {
      "text/plain": [
       "[14, 15, 16, 17, 18, 19, 20, 21, 22, 23, 24, 25, 26, 27, 28, 29, 30, 31]"
      ]
     },
     "execution_count": 29,
     "metadata": {},
     "output_type": "execute_result"
    }
   ],
   "source": [
    "tree[3]"
   ]
  },
  {
   "cell_type": "code",
   "execution_count": null,
   "metadata": {},
   "outputs": [],
   "source": []
  }
 ],
 "metadata": {
  "kernelspec": {
   "display_name": "tree_robust",
   "language": "python",
   "name": "python3"
  },
  "language_info": {
   "codemirror_mode": {
    "name": "ipython",
    "version": 3
   },
   "file_extension": ".py",
   "mimetype": "text/x-python",
   "name": "python",
   "nbconvert_exporter": "python",
   "pygments_lexer": "ipython3",
   "version": "3.9.16"
  }
 },
 "nbformat": 4,
 "nbformat_minor": 2
}
