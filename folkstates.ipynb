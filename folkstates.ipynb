{
 "cells": [
  {
   "cell_type": "code",
   "execution_count": 1,
   "metadata": {},
   "outputs": [],
   "source": [
    "import pandas as pd\n",
    "import numpy as np\n",
    "import itertools\n",
    "\n",
    "from sklearn.preprocessing import LabelEncoder, OneHotEncoder, StandardScaler\n",
    "from sklearn.compose import ColumnTransformer\n",
    "from folktables import ACSDataSource, ACSEmployment, ACSIncome, ACSPublicCoverage"
   ]
  },
  {
   "cell_type": "code",
   "execution_count": 3,
   "metadata": {},
   "outputs": [],
   "source": [
    "state_list = ['AL', 'AK', 'AZ', 'AR', 'CA', 'CO', 'CT', 'DE', 'FL', 'GA', 'HI',\n",
    "              'ID', 'IL', 'IN', 'IA', 'KS', 'KY', 'LA', 'ME', 'MD', 'MA', 'MI',\n",
    "              'MN', 'MS', 'MO', 'MT', 'NE', 'NV', 'NH', 'NJ', 'NM', 'NY', 'NC',\n",
    "              'ND', 'OH', 'OK', 'OR', 'PA', 'RI', 'SC', 'SD', 'TN', 'TX', 'UT',\n",
    "              'VT', 'VA', 'WA', 'WV', 'WI', 'WY', 'PR']\n",
    "\n",
    "region_list = ['NORTHEAST', 'MIDWEST', 'SOUTH', 'WEST']\n",
    "chosen_states = ['MA', 'CT', 'NY', 'PA', 'IL', 'OH', 'MO', 'MN', 'FL', 'GA',\n",
    "                 'TN', 'AL', 'TX', 'LA', 'AZ', 'CO', 'CA', 'WA']\n",
    "REGIONS = {\n",
    "    'NORTHEAST': {\n",
    "        'NewEngland': ['MA', 'CT'],\n",
    "        'MidAtlantic': ['NY', 'PA'],\n",
    "    },\n",
    "    'MIDWEST': {\n",
    "        'EastNorthCentral': ['IL', 'OH'],\n",
    "        'WestNorthCentral': ['MO', 'MN']\n",
    "    },\n",
    "    'SOUTH': {\n",
    "        'SouthAtlantic': ['FL', 'GA'],\n",
    "        'EastSouthCentral': ['TN', 'AL'],\n",
    "        'WestSouthCentral': ['TX', 'LA']\n",
    "    },\n",
    "    'WEST': {\n",
    "        'Mountain': ['AZ', 'CO'],\n",
    "        'Pacific': ['CA', 'WA']\n",
    "    }\n",
    "}\n",
    "\n",
    "_STATE_CODES = {'AL': '01', 'AK': '02', 'AZ': '04', 'AR': '05', 'CA': '06',\n",
    "                'CO': '08', 'CT': '09', 'DE': '10', 'FL': '12', 'GA': '13',\n",
    "                'HI': '15', 'ID': '16', 'IL': '17', 'IN': '18', 'IA': '19',\n",
    "                'KS': '20', 'KY': '21', 'LA': '22', 'ME': '23', 'MD': '24',\n",
    "                'MA': '25', 'MI': '26', 'MN': '27', 'MS': '28', 'MO': '29',\n",
    "                'MT': '30', 'NE': '31', 'NV': '32', 'NH': '33', 'NJ': '34',\n",
    "                'NM': '35', 'NY': '36', 'NC': '37', 'ND': '38', 'OH': '39',\n",
    "                'OK': '40', 'OR': '41', 'PA': '42', 'RI': '44', 'SC': '45',\n",
    "                'SD': '46', 'TN': '47', 'TX': '48', 'UT': '49', 'VT': '50',\n",
    "                'VA': '51', 'WA': '53', 'WV': '54', 'WI': '55', 'WY': '56',\n",
    "                'PR': '72'}\n",
    "\n",
    "_STATE_CODES_INV = {\n",
    "    '1': 'AL',\n",
    "    '2': 'AK',\n",
    "    '4': 'AZ',\n",
    "    '5': 'AR',\n",
    "    '6': 'CA',\n",
    "    '8': 'CO',\n",
    "    '9': 'CT',\n",
    "    '10': 'DE',\n",
    "    '12': 'FL',\n",
    "    '13': 'GA',\n",
    "    '15': 'HI',\n",
    "    '16': 'ID',\n",
    "    '17': 'IL',\n",
    "    '18': 'IN',\n",
    "    '19': 'IA',\n",
    "    '20': 'KS',\n",
    "    '21': 'KY',\n",
    "    '22': 'LA',\n",
    "    '23': 'ME',\n",
    "    '24': 'MD',\n",
    "    '25': 'MA',\n",
    "    '26': 'MI',\n",
    "    '27': 'MN',\n",
    "    '28': 'MS',\n",
    "    '29': 'MO',\n",
    "    '30': 'MT',\n",
    "    '31': 'NE',\n",
    "    '32': 'NV',\n",
    "    '33': 'NH',\n",
    "    '34': 'NJ',\n",
    "    '35': 'NM',\n",
    "    '36': 'NY',\n",
    "    '37': 'NC',\n",
    "    '38': 'ND',\n",
    "    '39': 'OH',\n",
    "    '40': 'OK',\n",
    "    '41': 'OR',\n",
    "    '42': 'PA',\n",
    "    '44': 'RI',\n",
    "    '45': 'SC',\n",
    "    '46': 'SD',\n",
    "    '47': 'TN',\n",
    "    '48': 'TX',\n",
    "    '49': 'UT',\n",
    "    '50': 'VT',\n",
    "    '51': 'VA',\n",
    "    '53': 'WA',\n",
    "    '54': 'WV',\n",
    "    '55': 'WI',\n",
    "    '56': 'WY',\n",
    "    '72': 'PR',\n",
    "}"
   ]
  },
  {
   "cell_type": "code",
   "execution_count": 6,
   "metadata": {},
   "outputs": [
    {
     "name": "stdout",
     "output_type": "stream",
     "text": [
      "Downloading data for 2016 1-Year person survey for MA...\n",
      "Downloading data for 2016 1-Year person survey for CT...\n",
      "Downloading data for 2016 1-Year person survey for PA...\n",
      "Downloading data for 2016 1-Year person survey for IL...\n",
      "Downloading data for 2016 1-Year person survey for OH...\n",
      "Downloading data for 2016 1-Year person survey for MO...\n",
      "Downloading data for 2016 1-Year person survey for MN...\n",
      "Downloading data for 2016 1-Year person survey for GA...\n",
      "Downloading data for 2016 1-Year person survey for TN...\n",
      "Downloading data for 2016 1-Year person survey for AL...\n",
      "Downloading data for 2016 1-Year person survey for LA...\n",
      "Downloading data for 2016 1-Year person survey for AZ...\n",
      "Downloading data for 2016 1-Year person survey for CO...\n",
      "Downloading data for 2016 1-Year person survey for WA...\n"
     ]
    }
   ],
   "source": [
    "data_source = ACSDataSource(survey_year=\"2016\", horizon=\"1-Year\",\n",
    "                                survey='person')\n",
    "acs_data = data_source.get_data(states=chosen_states, download=True)"
   ]
  },
  {
   "cell_type": "code",
   "execution_count": 5,
   "metadata": {},
   "outputs": [
    {
     "data": {
      "text/plain": [
       "0         6\n",
       "1         6\n",
       "2         6\n",
       "3         6\n",
       "4         6\n",
       "         ..\n",
       "376030    6\n",
       "376031    6\n",
       "376032    6\n",
       "376033    6\n",
       "376034    6\n",
       "Name: ST, Length: 376035, dtype: int64"
      ]
     },
     "execution_count": 5,
     "metadata": {},
     "output_type": "execute_result"
    }
   ],
   "source": [
    "acs_data['ST']"
   ]
  },
  {
   "cell_type": "code",
   "execution_count": null,
   "metadata": {},
   "outputs": [],
   "source": []
  }
 ],
 "metadata": {
  "kernelspec": {
   "display_name": "tree_robust",
   "language": "python",
   "name": "python3"
  },
  "language_info": {
   "codemirror_mode": {
    "name": "ipython",
    "version": 3
   },
   "file_extension": ".py",
   "mimetype": "text/x-python",
   "name": "python",
   "nbconvert_exporter": "python",
   "pygments_lexer": "ipython3",
   "version": "3.9.16"
  }
 },
 "nbformat": 4,
 "nbformat_minor": 2
}
