{
 "cells": [
  {
   "cell_type": "code",
   "execution_count": 124,
   "metadata": {},
   "outputs": [],
   "source": [
    "import pandas as pd\n",
    "import numpy as np\n",
    "import os\n",
    "import itertools\n",
    "\n",
    "from sklearn.preprocessing import LabelEncoder, OneHotEncoder, StandardScaler\n",
    "from sklearn.compose import ColumnTransformer\n",
    "from data import construct_hier\n",
    "\n",
    "from folktables import ACSDataSource, ACSEmployment, ACSIncome, ACSPublicCoverage"
   ]
  },
  {
   "cell_type": "code",
   "execution_count": 125,
   "metadata": {},
   "outputs": [],
   "source": [
    "# Load data and add label\n",
    "cols = [\"age\", \"sex\", \"bmi\", \"children\", \"smoker\", \"region\", \"charges\"]\n",
    "df = pd.read_csv('datasets/insurance/insurance.csv', header=0)\n",
    "pd.to_numeric(df['charges'])\n",
    "median = df['charges'].median()\n",
    "df['label'] = df['charges'] >  median\n",
    "X, y = df.drop([\"charges\", \"label\"], axis=1), df[\"label\"]"
   ]
  },
  {
   "cell_type": "code",
   "execution_count": 126,
   "metadata": {},
   "outputs": [],
   "source": [
    "# Get categorical and numerical features\n",
    "cat_idx = X.select_dtypes(include=['object', 'bool']).columns\n",
    "num_idx = X.select_dtypes(include=['int64', 'float64']).columns\n",
    "steps = [('cat', OneHotEncoder(handle_unknown='ignore'), cat_idx), ('num', StandardScaler(), num_idx)]\n",
    "col_transf = ColumnTransformer(steps)"
   ]
  },
  {
   "cell_type": "code",
   "execution_count": 127,
   "metadata": {},
   "outputs": [],
   "source": [
    "# Group logic\n",
    "ALL = [True] * y.shape[0]\n",
    "\n",
    "young = np.array(X['age'] <= 35)\n",
    "mid = np.array((X['age'] > 35) & (X['age'] <= 50))\n",
    "old = np.array(X['age'] > 50)\n",
    "age_group_names = ['Ya', 'Ma', 'Oa']\n",
    "age_groups = [young, mid, old]\n",
    "\n",
    "smoker = np.array(X['smoker'] == 'yes')\n",
    "nonsmoker = np.array(X['smoker'] == 'no')\n",
    "smoker_groups = [smoker, nonsmoker]\n",
    "smoker_group_names = ['SMK', 'nSMK']\n",
    "\n",
    "bmi1 = np.array(X['bmi'] < 18.5)\n",
    "bmi2 = np.array((X['bmi'] >= 18.5) & (X['bmi'] < 25))\n",
    "bmi3 = np.array((X['bmi']) >= 25 & (X['bmi'] < 30))\n",
    "bmi4 = np.array(X['bmi'] >= 30)\n",
    "bmi_groups = [bmi1, bmi2, bmi3, bmi4]\n",
    "bmi_group_names = ['BMI1', 'BMI2', 'BMI3', 'BMI4']\n",
    "\n",
    "sex_groups = [np.array(X['sex'] == 'male'), np.array(X['sex'] == 'female')]\n",
    "sex_group_names = ['M', 'F']\n",
    "\n",
    "groups, group_names, tree = construct_hier([[ALL], sex_groups, smoker_groups],\n",
    "                                           [[\"ALL\"], sex_group_names, smoker_group_names])"
   ]
  },
  {
   "cell_type": "code",
   "execution_count": 128,
   "metadata": {},
   "outputs": [],
   "source": [
    "# label encoder to target variable so we have classes 0 and 1\n",
    "assert(len(np.unique(y)) == 2)\n",
    "X = col_transf.fit_transform(X)\n",
    "y = LabelEncoder().fit_transform(y)"
   ]
  },
  {
   "cell_type": "code",
   "execution_count": 101,
   "metadata": {},
   "outputs": [
    {
     "name": "stdout",
     "output_type": "stream",
     "text": [
      "0.8992537313432836\n",
      "0.9477611940298507\n",
      "0.9440298507462687\n"
     ]
    }
   ],
   "source": [
    "from sklearn.linear_model import LogisticRegression\n",
    "from sklearn.ensemble import RandomForestClassifier\n",
    "from xgboost import XGBClassifier\n",
    "\n",
    "from sklearn.model_selection import train_test_split\n",
    "from sklearn.metrics import accuracy_score\n",
    "\n",
    "X_train, X_test, y_train, y_test = train_test_split(X, y, test_size=0.2)\n",
    "model = LogisticRegression()\n",
    "rf = RandomForestClassifier()\n",
    "xgb = XGBClassifier()\n",
    "model.fit(X_train, y_train)\n",
    "rf.fit(X_train, y_train)\n",
    "xgb.fit(X_train, y_train)\n",
    "print(accuracy_score(model.predict(X_test), y_test))\n",
    "print(accuracy_score(rf.predict(X_test), y_test))\n",
    "print(accuracy_score(xgb.predict(X_test), y_test))"
   ]
  },
  {
   "cell_type": "code",
   "execution_count": 132,
   "metadata": {},
   "outputs": [],
   "source": [
    "splits = train_test_split(*tuple([X, y] + groups), \n",
    "                          test_size=0.15, random_state=0)\n",
    "X_train = splits[0]\n",
    "X_test = splits[1]\n",
    "y_train = splits[2]\n",
    "y_test = splits[3]\n",
    "groups_train = splits[4::2]\n",
    "groups_test = splits[5::2]"
   ]
  },
  {
   "cell_type": "code",
   "execution_count": 134,
   "metadata": {},
   "outputs": [
    {
     "name": "stdout",
     "output_type": "stream",
     "text": [
      "\tOn group=ALL with n=1137...\n"
     ]
    },
    {
     "ename": "TypeError",
     "evalue": "fit() missing 1 required positional argument: 'y'",
     "output_type": "error",
     "traceback": [
      "\u001b[0;31m---------------------------------------------------------------------------\u001b[0m",
      "\u001b[0;31mTypeError\u001b[0m                                 Traceback (most recent call last)",
      "\u001b[1;32m/Users/essdee/workplace/tree_robust/preprocess.ipynb Cell 8\u001b[0m line \u001b[0;36m5\n\u001b[1;32m      <a href='vscode-notebook-cell:/Users/essdee/workplace/tree_robust/preprocess.ipynb#X22sZmlsZQ%3D%3D?line=1'>2</a>\u001b[0m n_g \u001b[39m=\u001b[39m np\u001b[39m.\u001b[39msum(groups_train[g])\n\u001b[1;32m      <a href='vscode-notebook-cell:/Users/essdee/workplace/tree_robust/preprocess.ipynb#X22sZmlsZQ%3D%3D?line=2'>3</a>\u001b[0m \u001b[39mprint\u001b[39m(\u001b[39m\"\u001b[39m\u001b[39m\\t\u001b[39;00m\u001b[39mOn group=\u001b[39m\u001b[39m{}\u001b[39;00m\u001b[39m with n=\u001b[39m\u001b[39m{}\u001b[39;00m\u001b[39m...\u001b[39m\u001b[39m\"\u001b[39m\u001b[39m.\u001b[39mformat(group_name, n_g))\n\u001b[0;32m----> <a href='vscode-notebook-cell:/Users/essdee/workplace/tree_robust/preprocess.ipynb#X22sZmlsZQ%3D%3D?line=4'>5</a>\u001b[0m model\u001b[39m.\u001b[39;49mfit(X_train[groups_train[g]])\n",
      "\u001b[0;31mTypeError\u001b[0m: fit() missing 1 required positional argument: 'y'"
     ]
    }
   ],
   "source": [
    "for g, group_name in enumerate(group_names):\n",
    "    n_g = np.sum(groups_train[g])\n",
    "    print(\"\\tOn group={} with n={}...\".format(group_name, n_g))\n",
    "    \n",
    "    model.fit(X_train[groups_train[g]], y[groups_train[g]])\n",
    "    print(accuracy_score(model.predict(X_test[groups_test[g]]), y_test))"
   ]
  },
  {
   "cell_type": "code",
   "execution_count": null,
   "metadata": {},
   "outputs": [],
   "source": []
  }
 ],
 "metadata": {
  "kernelspec": {
   "display_name": "tree_robust",
   "language": "python",
   "name": "python3"
  },
  "language_info": {
   "codemirror_mode": {
    "name": "ipython",
    "version": 3
   },
   "file_extension": ".py",
   "mimetype": "text/x-python",
   "name": "python",
   "nbconvert_exporter": "python",
   "pygments_lexer": "ipython3",
   "version": "3.9.16"
  }
 },
 "nbformat": 4,
 "nbformat_minor": 2
}
