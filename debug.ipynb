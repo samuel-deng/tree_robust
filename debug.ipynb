{
 "cells": [
  {
   "cell_type": "code",
   "execution_count": 1,
   "metadata": {},
   "outputs": [],
   "source": [
    "import itertools\n",
    "import numpy as np\n",
    "\n",
    "from sklearn.preprocessing import LabelEncoder, OneHotEncoder, StandardScaler\n",
    "from sklearn.compose import ColumnTransformer\n",
    "\n",
    "from compas_utils import preprocess_compas_df\n",
    "from folktables import ACSDataSource, ACSEmployment, ACSIncome, ACSPublicCoverage\n",
    "from data import construct_hier, Dataset, name_to_dataset"
   ]
  },
  {
   "cell_type": "code",
   "execution_count": 3,
   "metadata": {},
   "outputs": [],
   "source": [
    "data_source = ACSDataSource(survey_year='2016', horizon='1-Year', survey='person')\n",
    "acs_data = data_source.get_data(states=['CA'], download=True)\n",
    "X, y, group = ACSIncome.df_to_numpy(acs_data)\n",
    "sex = X[:, -2]\n",
    "young = (X[:,0] < 35)\n",
    "mid = np.logical_and(X[:,0] >= 35, X[:,0] < 60)\n",
    "old = (X[:,0] >= 60)"
   ]
  },
  {
   "cell_type": "code",
   "execution_count": 28,
   "metadata": {},
   "outputs": [
    {
     "data": {
      "text/plain": [
       "['income', 'CA', 'esr']"
      ]
     },
     "execution_count": 28,
     "metadata": {},
     "output_type": "execute_result"
    }
   ],
   "source": [
    "\"income_CA_esr\".split(\"_\")"
   ]
  },
  {
   "cell_type": "code",
   "execution_count": 30,
   "metadata": {},
   "outputs": [
    {
     "name": "stdout",
     "output_type": "stream",
     "text": [
      "(1, 'A', 'C')\n",
      "(1, 'A', 'D')\n",
      "(1, 'B', 'C')\n",
      "(1, 'B', 'D')\n",
      "(2, 'A', 'C')\n",
      "(2, 'A', 'D')\n",
      "(2, 'B', 'C')\n",
      "(2, 'B', 'D')\n",
      "(3, 'A', 'C')\n",
      "(3, 'A', 'D')\n",
      "(3, 'B', 'C')\n",
      "(3, 'B', 'D')\n"
     ]
    }
   ],
   "source": [
    "for el in itertools.product([1,2,3], ['A', 'B'], ['C', 'D']):\n",
    "    print(el)"
   ]
  },
  {
   "cell_type": "code",
   "execution_count": 31,
   "metadata": {},
   "outputs": [],
   "source": [
    "state = 'CA'\n",
    "task = 'income'\n",
    "data_source = ACSDataSource(survey_year=\"2016\", horizon=\"1-Year\",\n",
    "                            survey='person')\n",
    "acs_data = data_source.get_data(states=[state], download=True)\n",
    "if task == 'income':\n",
    "    X, y, group = ACSIncome.df_to_numpy(acs_data)\n",
    "    feature_names = ACSIncome.features"
   ]
  }
 ],
 "metadata": {
  "kernelspec": {
   "display_name": "tree_robust",
   "language": "python",
   "name": "python3"
  },
  "language_info": {
   "codemirror_mode": {
    "name": "ipython",
    "version": 3
   },
   "file_extension": ".py",
   "mimetype": "text/x-python",
   "name": "python",
   "nbconvert_exporter": "python",
   "pygments_lexer": "ipython3",
   "version": "3.9.16"
  }
 },
 "nbformat": 4,
 "nbformat_minor": 2
}
