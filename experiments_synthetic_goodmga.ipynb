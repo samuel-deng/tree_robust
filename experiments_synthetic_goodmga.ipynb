{
 "cells": [
  {
   "cell_type": "code",
   "execution_count": 155,
   "metadata": {},
   "outputs": [],
   "source": [
    "import numpy as np"
   ]
  },
  {
   "cell_type": "code",
   "execution_count": 156,
   "metadata": {},
   "outputs": [],
   "source": [
    "n_samples = 10000\n",
    "np.random.seed(22)\n",
    "\n",
    "def group_membership(group, category):\n",
    "    indices = np.where(group == category)\n",
    "    membership = np.zeros(group.shape[0], dtype=bool)\n",
    "    membership[indices] = True\n",
    "    return membership\n",
    "\n",
    "# Non-group features\n",
    "features = np.random.uniform(low=0, high=1, size=(n_samples, 20))\n",
    "\n",
    "# Group features\n",
    "group_names = [\"ALL\", \"A\", \"B\", \"C\", \"0\", \"1\", \"A0\", \"A1\", \"B0\", \"B1\", \"C0\", \"C1\"]\n",
    "alpha_names = [\"A\", \"B\", \"C\"]\n",
    "bin_names = [\"0\", \"1\"]\n",
    "alphas = np.random.choice([0, 1, 2], size=n_samples, p=[.5, .3, .2])\n",
    "bins = np.random.choice([0, 1], size=n_samples, p=[.6, .4])\n",
    "alpha_onehot = np.zeros((alphas.size, alphas.max() + 1))\n",
    "alpha_onehot[np.arange(alphas.size), alphas] = 1\n",
    "bin_onehot = np.zeros((bins.size, bins.max() + 1))\n",
    "bin_onehot[np.arange(bins.size), bins] = 1\n",
    "\n",
    "group_features = np.concatenate((alpha_onehot, bin_onehot), axis=1)\n",
    "\n",
    "# Group memberships\n",
    "group_memberships = []\n",
    "group_memberships.append([True] * n_samples)\n",
    "\n",
    "# Groups\n",
    "group_memberships.append(group_membership(alphas, 0))\n",
    "group_memberships.append(group_membership(alphas, 1))\n",
    "group_memberships.append(group_membership(alphas, 2))\n",
    "group_memberships.append(group_membership(bins, 0))\n",
    "group_memberships.append(group_membership(bins, 1))\n",
    "\n",
    "# Group intersections\n",
    "for alpha in [0, 1, 2]:\n",
    "    for bina in [0, 1]:\n",
    "        alpha_membership = group_membership(alphas, alpha)\n",
    "        bin_membership = group_membership(bins, bina)\n",
    "        group_memberships.append(alpha_membership & bin_membership)\n",
    "\n",
    "# Concatenate to get dataset\n",
    "X = np.concatenate((features, group_features), axis=1)\n",
    "n_features = X.shape[1]\n",
    "alpha_features = [20, 21, 22]\n",
    "bin_features = [23, 24]"
   ]
  },
  {
   "cell_type": "code",
   "execution_count": 157,
   "metadata": {},
   "outputs": [],
   "source": [
    "# Generate weight vectors for each group\n",
    "alpha_weights = []\n",
    "bin_weights = []\n",
    "for i in range(3):\n",
    "    alpha_weights.append(np.random.dirichlet(np.ones(n_features) * (1/100)))\n",
    "\n",
    "#for i in range(2):\n",
    "#    bin_weights.append(np.random.dirichlet(np.ones(n_features) * (1/100)))\n",
    "\n",
    "# Generate alpha labels\n",
    "y_alpha = np.zeros(n_samples)\n",
    "y_alpha[group_memberships[1]] = X[group_memberships[1]] @ alpha_weights[0]\n",
    "y_alpha[group_memberships[2]] = X[group_memberships[2]] @ alpha_weights[1]\n",
    "y_alpha[group_memberships[3]] = X[group_memberships[3]] @ alpha_weights[2]\n",
    "\n",
    "# Generate bin labels\n",
    "#y_bin = np.zeros(n_samples)\n",
    "#y_bin[group_memberships[4]] = X[group_memberships[4]] @ bin_weights[0]\n",
    "#y_bin[group_memberships[5]] = X[group_memberships[5]] @ bin_weights[1]\n",
    "\n",
    "# Generate final labels\n",
    "# TODO: other aggregation schemes\n",
    "y = y_alpha\n",
    "y[np.where(y > 0.5)] = 1\n",
    "y[np.where(y <= 0.5)] = 0"
   ]
  },
  {
   "cell_type": "code",
   "execution_count": 158,
   "metadata": {},
   "outputs": [
    {
     "name": "stdout",
     "output_type": "stream",
     "text": [
      "0.9938843953442493\n",
      "0.8165866578381062\n",
      "0.8418467583497053\n"
     ]
    }
   ],
   "source": [
    "# Train some models\n",
    "from sklearn.linear_model import LogisticRegression\n",
    "from sklearn.tree import DecisionTreeClassifier\n",
    "from sklearn.metrics import accuracy_score\n",
    "\n",
    "modelA = LogisticRegression(penalty='l2')\n",
    "model0 = LogisticRegression(penalty='l2')\n",
    "modelA.fit(X[group_memberships[1]], y[group_memberships[1]])\n",
    "model0.fit(X[group_memberships[4]], y[group_memberships[4]])\n",
    "\n",
    "predA = modelA.predict(X[group_memberships[1]])\n",
    "pred0 = model0.predict(X[group_memberships[4]])\n",
    "print(accuracy_score(y[group_memberships[1]], predA))\n",
    "print(accuracy_score(y[group_memberships[4]], pred0))\n",
    "\n",
    "predA = modelA.predict(X[group_memberships[6]]) #A0\n",
    "pred0 = model0.predict(X[group_memberships[6]])\n",
    "print(accuracy_score(predA, pred0))"
   ]
  },
  {
   "cell_type": "code",
   "execution_count": 159,
   "metadata": {},
   "outputs": [
    {
     "name": "stdout",
     "output_type": "stream",
     "text": [
      "1.0\n",
      "1.0\n",
      "1.0\n"
     ]
    }
   ],
   "source": [
    "treeA = DecisionTreeClassifier()\n",
    "tree0 = DecisionTreeClassifier()\n",
    "\n",
    "treeA.fit(X[group_memberships[1]], y[group_memberships[1]])\n",
    "tree0.fit(X[group_memberships[4]], y[group_memberships[4]])\n",
    "\n",
    "predA = treeA.predict(X[group_memberships[1]])\n",
    "pred0 = tree0.predict(X[group_memberships[4]])\n",
    "\n",
    "print(accuracy_score(y[group_memberships[1]], predA))\n",
    "print(accuracy_score(y[group_memberships[4]], pred0))\n",
    "print(accuracy_score(treeA.predict(X[group_memberships[6]]), tree0.predict(X[group_memberships[6]])))"
   ]
  },
  {
   "cell_type": "code",
   "execution_count": 160,
   "metadata": {},
   "outputs": [
    {
     "name": "stdout",
     "output_type": "stream",
     "text": [
      "1.0\n",
      "1.0\n",
      "1.0\n",
      "1.0\n",
      "1.0\n",
      "1.0\n",
      "1.0\n",
      "1.0\n",
      "1.0\n",
      "1.0\n",
      "1.0\n",
      "1.0\n"
     ]
    }
   ],
   "source": [
    "# Ensemble\n",
    "from sklearn.ensemble import RandomForestClassifier\n",
    "from sklearn.ensemble import GradientBoostingClassifier\n",
    "\n",
    "tree = DecisionTreeClassifier()\n",
    "gbc = GradientBoostingClassifier()\n",
    "forest = RandomForestClassifier(n_estimators=30)\n",
    "tree.fit(X, y)\n",
    "forest.fit(X, y)\n",
    "gbc.fit(X, y)\n",
    "\n",
    "\n",
    "for i in range(12):\n",
    "    print(accuracy_score(y[group_memberships[i]], gbc.predict(X[group_memberships[i]])))"
   ]
  },
  {
   "cell_type": "code",
   "execution_count": 163,
   "metadata": {},
   "outputs": [],
   "source": [
    "# Non-group features\n",
    "features = np.random.uniform(low=0, high=1, size=(n_samples, 20))\n",
    "\n",
    "# Group features\n",
    "group_names = [\"ALL\", \"A\", \"B\", \"C\", \"0\", \"1\", \"A0\", \"A1\", \"B0\", \"B1\", \"C0\", \"C1\"]\n",
    "alpha_names = [\"A\", \"B\", \"C\"]\n",
    "bin_names = [\"0\", \"1\"]\n",
    "alphas = np.random.choice([0, 1, 2], size=n_samples, p=[.5, .3, .2])\n",
    "bins = np.random.choice([0, 1], size=n_samples, p=[.6, .4])\n",
    "alpha_onehot = np.zeros((alphas.size, alphas.max() + 1))\n",
    "alpha_onehot[np.arange(alphas.size), alphas] = 1\n",
    "bin_onehot = np.zeros((bins.size, bins.max() + 1))\n",
    "bin_onehot[np.arange(bins.size), bins] = 1\n",
    "\n",
    "group_features = np.concatenate((alpha_onehot, bin_onehot), axis=1)\n",
    "\n",
    "X = np.concatenate((features, group_features), axis=1)\n",
    "\n",
    "# Group memberships\n",
    "group_memberships = []\n",
    "group_memberships.append([True] * n_samples)\n",
    "\n",
    "# Groups\n",
    "group_memberships.append(group_membership(alphas, 0))\n",
    "group_memberships.append(group_membership(alphas, 1))\n",
    "group_memberships.append(group_membership(alphas, 2))\n",
    "group_memberships.append(group_membership(bins, 0))\n",
    "group_memberships.append(group_membership(bins, 1))\n",
    "\n",
    "# Group intersections\n",
    "for alpha in [0, 1, 2]:\n",
    "    for bina in [0, 1]:\n",
    "        alpha_membership = group_membership(alphas, alpha)\n",
    "        bin_membership = group_membership(bins, bina)\n",
    "        group_memberships.append(alpha_membership & bin_membership)\n",
    "        \n",
    "# Generate alpha labels\n",
    "y_alpha = np.zeros(n_samples)\n",
    "y_alpha[group_memberships[1]] = X[group_memberships[1]] @ alpha_weights[0]\n",
    "y_alpha[group_memberships[2]] = X[group_memberships[2]] @ alpha_weights[1]\n",
    "y_alpha[group_memberships[3]] = X[group_memberships[3]] @ alpha_weights[2]\n",
    "\n",
    "# Generate bin labels\n",
    "#y_bin = np.zeros(n_samples)\n",
    "#y_bin[group_memberships[4]] = X[group_memberships[4]] @ bin_weights[0]\n",
    "#y_bin[group_memberships[5]] = X[group_memberships[5]] @ bin_weights[1]\n",
    "\n",
    "# Generate final labels\n",
    "# TODO: other aggregation schemes\n",
    "y = y_alpha\n",
    "y[np.where(y > 0.5)] = 1\n",
    "y[np.where(y <= 0.5)] = 0"
   ]
  },
  {
   "cell_type": "code",
   "execution_count": 164,
   "metadata": {},
   "outputs": [
    {
     "name": "stdout",
     "output_type": "stream",
     "text": [
      "0.9998\n",
      "1.0\n",
      "0.9993192648059904\n",
      "1.0\n",
      "0.9998318479905834\n",
      "0.999753269183321\n",
      "1.0\n",
      "1.0\n",
      "0.9994305239179955\n",
      "0.9991539763113367\n",
      "1.0\n",
      "1.0\n",
      "\n",
      "0.9999\n",
      "1.0\n",
      "0.9996596324029953\n",
      "1.0\n",
      "1.0\n",
      "0.999753269183321\n",
      "1.0\n",
      "1.0\n",
      "1.0\n",
      "0.9991539763113367\n",
      "1.0\n",
      "1.0\n",
      "\n",
      "1.0\n",
      "1.0\n"
     ]
    }
   ],
   "source": [
    "for i in range(12):\n",
    "    print(accuracy_score(y[group_memberships[i]], gbc.predict(X[group_memberships[i]])))\n",
    "print()\n",
    "for i in range(12):\n",
    "    print(accuracy_score(y[group_memberships[i]], tree.predict(X[group_memberships[i]])))\n",
    "print()\n",
    "print(accuracy_score(y[group_memberships[1]], treeA.predict(X[group_memberships[1]])))\n",
    "print(accuracy_score(y[group_memberships[4]], tree0.predict(X[group_memberships[4]])))"
   ]
  }
 ],
 "metadata": {
  "kernelspec": {
   "display_name": "tree_robust",
   "language": "python",
   "name": "python3"
  },
  "language_info": {
   "codemirror_mode": {
    "name": "ipython",
    "version": 3
   },
   "file_extension": ".py",
   "mimetype": "text/x-python",
   "name": "python",
   "nbconvert_exporter": "python",
   "pygments_lexer": "ipython3",
   "version": "3.9.16"
  }
 },
 "nbformat": 4,
 "nbformat_minor": 2
}
